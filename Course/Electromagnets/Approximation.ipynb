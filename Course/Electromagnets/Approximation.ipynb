{
 "cells": [
  {
   "cell_type": "markdown",
   "metadata": {},
   "source": [
    "# How to Approximate\n",
    "When do approximations, the decision of which part to preserve and which to omit are always the central considerations. When $x \\to 0$, we usually abandon $x^2$ portion in the existence of $x$ because it is higher order infinitestimal. But when the Taylor series lack of first order term, does the operation make sense?\n",
    "## Cart before the Horse"
   ]
  },
  {
   "cell_type": "code",
   "execution_count": 24,
   "metadata": {},
   "outputs": [
    {
     "data": {
      "text/latex": [
       "$\\displaystyle \\frac{1}{x + 1}$"
      ],
      "text/plain": [
       "1/(x + 1)"
      ]
     },
     "execution_count": 24,
     "metadata": {},
     "output_type": "execute_result"
    }
   ],
   "source": [
    "from sympy import *\n",
    "x, y, f, θ = symbols('x, y, f, θ')\n",
    "f = 1/(1+x)\n",
    "f"
   ]
  },
  {
   "cell_type": "code",
   "execution_count": 25,
   "metadata": {},
   "outputs": [
    {
     "data": {
      "text/latex": [
       "$\\displaystyle 1 - x + x^{2} - x^{3} + x^{4} - x^{5} + x^{6} - x^{7} + x^{8} - x^{9} + O\\left(x^{10}\\right)$"
      ],
      "text/plain": [
       "1 - x + x**2 - x**3 + x**4 - x**5 + x**6 - x**7 + x**8 - x**9 + O(x**10)"
      ]
     },
     "execution_count": 25,
     "metadata": {},
     "output_type": "execute_result"
    }
   ],
   "source": [
    "series(f,x,0,10)"
   ]
  },
  {
   "cell_type": "code",
   "execution_count": 26,
   "metadata": {},
   "outputs": [
    {
     "data": {
      "text/latex": [
       "$\\displaystyle \\frac{1}{x^{2} + x + 1}$"
      ],
      "text/plain": [
       "1/(x**2 + x + 1)"
      ]
     },
     "execution_count": 26,
     "metadata": {},
     "output_type": "execute_result"
    }
   ],
   "source": [
    "f = 1/(1+x+x**2)\n",
    "f"
   ]
  },
  {
   "cell_type": "code",
   "execution_count": 27,
   "metadata": {},
   "outputs": [
    {
     "data": {
      "text/latex": [
       "$\\displaystyle 1 - x + x^{3} - x^{4} + x^{6} - x^{7} + x^{9} - x^{10} + x^{12} - x^{13} + x^{15} - x^{16} + x^{18} - x^{19} + O\\left(x^{20}\\right)$"
      ],
      "text/plain": [
       "1 - x + x**3 - x**4 + x**6 - x**7 + x**9 - x**10 + x**12 - x**13 + x**15 - x**16 + x**18 - x**19 + O(x**20)"
      ]
     },
     "execution_count": 27,
     "metadata": {},
     "output_type": "execute_result"
    }
   ],
   "source": [
    "series(f,x,0,20)"
   ]
  },
  {
   "cell_type": "code",
   "execution_count": 28,
   "metadata": {},
   "outputs": [
    {
     "data": {
      "text/latex": [
       "$\\displaystyle \\frac{1}{10 x^{2} + x + 1}$"
      ],
      "text/plain": [
       "1/(10*x**2 + x + 1)"
      ]
     },
     "execution_count": 28,
     "metadata": {},
     "output_type": "execute_result"
    }
   ],
   "source": [
    "f = 1/(1+x+10*x**2)\n",
    "f"
   ]
  },
  {
   "cell_type": "code",
   "execution_count": 29,
   "metadata": {},
   "outputs": [
    {
     "data": {
      "text/latex": [
       "$\\displaystyle 1 - x - 9 x^{2} + 19 x^{3} + 71 x^{4} + O\\left(x^{5}\\right)$"
      ],
      "text/plain": [
       "1 - x - 9*x**2 + 19*x**3 + 71*x**4 + O(x**5)"
      ]
     },
     "execution_count": 29,
     "metadata": {},
     "output_type": "execute_result"
    }
   ],
   "source": [
    "series(f,x,0,5)"
   ]
  },
  {
   "cell_type": "code",
   "execution_count": 30,
   "metadata": {},
   "outputs": [
    {
     "data": {
      "text/latex": [
       "$\\displaystyle \\frac{1}{\\sqrt{x + 1}}$"
      ],
      "text/plain": [
       "1/sqrt(x + 1)"
      ]
     },
     "execution_count": 30,
     "metadata": {},
     "output_type": "execute_result"
    }
   ],
   "source": [
    "f = 1/sqrt(1+x)\n",
    "f"
   ]
  },
  {
   "cell_type": "code",
   "execution_count": 31,
   "metadata": {},
   "outputs": [
    {
     "data": {
      "text/latex": [
       "$\\displaystyle 1 - \\frac{x}{2} + \\frac{3 x^{2}}{8} - \\frac{5 x^{3}}{16} + \\frac{35 x^{4}}{128} + O\\left(x^{5}\\right)$"
      ],
      "text/plain": [
       "1 - x/2 + 3*x**2/8 - 5*x**3/16 + 35*x**4/128 + O(x**5)"
      ]
     },
     "execution_count": 31,
     "metadata": {},
     "output_type": "execute_result"
    }
   ],
   "source": [
    "series(f,x,0,5)"
   ]
  },
  {
   "cell_type": "code",
   "execution_count": 32,
   "metadata": {},
   "outputs": [
    {
     "data": {
      "text/latex": [
       "$\\displaystyle \\frac{1}{\\sqrt{x^{2} + x + 1}}$"
      ],
      "text/plain": [
       "1/sqrt(x**2 + x + 1)"
      ]
     },
     "execution_count": 32,
     "metadata": {},
     "output_type": "execute_result"
    }
   ],
   "source": [
    "f = 1/sqrt(1+x+x**2)\n",
    "f"
   ]
  },
  {
   "cell_type": "code",
   "execution_count": 33,
   "metadata": {},
   "outputs": [
    {
     "data": {
      "text/latex": [
       "$\\displaystyle 1 - \\frac{x}{2} - \\frac{x^{2}}{8} + \\frac{7 x^{3}}{16} - \\frac{37 x^{4}}{128} + O\\left(x^{5}\\right)$"
      ],
      "text/plain": [
       "1 - x/2 - x**2/8 + 7*x**3/16 - 37*x**4/128 + O(x**5)"
      ]
     },
     "execution_count": 33,
     "metadata": {},
     "output_type": "execute_result"
    }
   ],
   "source": [
    "series(f,x,0,5)"
   ]
  },
  {
   "cell_type": "code",
   "execution_count": 40,
   "metadata": {},
   "outputs": [
    {
     "data": {
      "text/latex": [
       "$\\displaystyle \\frac{1}{\\sqrt{\\sqrt{2} x \\cos{\\left(θ + \\frac{\\pi}{4} \\right)} + 1}} + \\frac{1}{\\sqrt{- \\sqrt{2} x \\cos{\\left(θ + \\frac{\\pi}{4} \\right)} + 1}} - \\frac{1}{\\sqrt{\\sqrt{2} x \\sin{\\left(θ + \\frac{\\pi}{4} \\right)} + 1}} - \\frac{1}{\\sqrt{- \\sqrt{2} x \\sin{\\left(θ + \\frac{\\pi}{4} \\right)} + 1}}$"
      ],
      "text/plain": [
       "1/sqrt(sqrt(2)*x*cos(θ + pi/4) + 1) + 1/sqrt(-sqrt(2)*x*cos(θ + pi/4) + 1) - 1/sqrt(sqrt(2)*x*sin(θ + pi/4) + 1) - 1/sqrt(-sqrt(2)*x*sin(θ + pi/4) + 1)"
      ]
     },
     "execution_count": 40,
     "metadata": {},
     "output_type": "execute_result"
    }
   ],
   "source": [
    "f = (-1/sqrt(1+sqrt(2)*x*cos(pi/4-θ))+1/sqrt(1+sqrt(2)*x*cos(3*pi/4-θ)))-1/sqrt(1+sqrt(2)*x*cos(5*pi/4-θ))+1/sqrt(1+sqrt(2)*x*cos(7*pi/4-θ))\n",
    "f"
   ]
  },
  {
   "cell_type": "code",
   "execution_count": 41,
   "metadata": {},
   "outputs": [
    {
     "data": {
      "text/latex": [
       "$\\displaystyle x^{2} \\left(- \\frac{3 \\sin^{2}{\\left(θ + \\frac{\\pi}{4} \\right)}}{2} + \\frac{3 \\cos^{2}{\\left(θ + \\frac{\\pi}{4} \\right)}}{2}\\right) + x^{4} \\left(- \\frac{35 \\sin^{4}{\\left(θ + \\frac{\\pi}{4} \\right)}}{16} + \\frac{35 \\cos^{4}{\\left(θ + \\frac{\\pi}{4} \\right)}}{16}\\right) + O\\left(x^{5}\\right)$"
      ],
      "text/plain": [
       "x**2*(-3*sin(θ + pi/4)**2/2 + 3*cos(θ + pi/4)**2/2) + x**4*(-35*sin(θ + pi/4)**4/16 + 35*cos(θ + pi/4)**4/16) + O(x**5)"
      ]
     },
     "execution_count": 41,
     "metadata": {},
     "output_type": "execute_result"
    }
   ],
   "source": [
    "series(f,x,0,5)"
   ]
  },
  {
   "cell_type": "code",
   "execution_count": 37,
   "metadata": {},
   "outputs": [
    {
     "data": {
      "text/latex": [
       "$\\displaystyle \\frac{1}{\\sqrt{\\frac{x^{2}}{2} + \\sqrt{2} x \\cos{\\left(θ + \\frac{\\pi}{4} \\right)} + 1}} + \\frac{1}{\\sqrt{\\frac{x^{2}}{2} - \\sqrt{2} x \\cos{\\left(θ + \\frac{\\pi}{4} \\right)} + 1}} - \\frac{1}{\\sqrt{\\frac{x^{2}}{2} + \\sqrt{2} x \\sin{\\left(θ + \\frac{\\pi}{4} \\right)} + 1}} - \\frac{1}{\\sqrt{\\frac{x^{2}}{2} - \\sqrt{2} x \\sin{\\left(θ + \\frac{\\pi}{4} \\right)} + 1}}$"
      ],
      "text/plain": [
       "1/sqrt(x**2/2 + sqrt(2)*x*cos(θ + pi/4) + 1) + 1/sqrt(x**2/2 - sqrt(2)*x*cos(θ + pi/4) + 1) - 1/sqrt(x**2/2 + sqrt(2)*x*sin(θ + pi/4) + 1) - 1/sqrt(x**2/2 - sqrt(2)*x*sin(θ + pi/4) + 1)"
      ]
     },
     "execution_count": 37,
     "metadata": {},
     "output_type": "execute_result"
    }
   ],
   "source": [
    "f = (-1/sqrt(1+sqrt(2)*x*cos(pi/4-θ)+x**2/2)+1/sqrt(1+sqrt(2)*x*cos(3*pi/4-θ)+x**2/2))-1/sqrt(1+sqrt(2)*x*cos(5*pi/4-θ)+x**2/2)+1/sqrt(1+sqrt(2)*x*cos(7*pi/4-θ)+x**2/2)\n",
    "f"
   ]
  },
  {
   "cell_type": "code",
   "execution_count": 39,
   "metadata": {},
   "outputs": [
    {
     "data": {
      "text/latex": [
       "$\\displaystyle x^{2} \\left(- \\frac{3 \\sin^{2}{\\left(θ + \\frac{\\pi}{4} \\right)}}{2} + \\frac{3 \\cos^{2}{\\left(θ + \\frac{\\pi}{4} \\right)}}{2}\\right) + x^{4} \\left(- \\frac{35 \\sin^{4}{\\left(θ + \\frac{\\pi}{4} \\right)}}{16} + \\frac{15 \\sin^{2}{\\left(θ + \\frac{\\pi}{4} \\right)}}{8} + \\frac{35 \\cos^{4}{\\left(θ + \\frac{\\pi}{4} \\right)}}{16} - \\frac{15 \\cos^{2}{\\left(θ + \\frac{\\pi}{4} \\right)}}{8}\\right) + O\\left(x^{5}\\right)$"
      ],
      "text/plain": [
       "x**2*(-3*sin(θ + pi/4)**2/2 + 3*cos(θ + pi/4)**2/2) + x**4*(-35*sin(θ + pi/4)**4/16 + 15*sin(θ + pi/4)**2/8 + 35*cos(θ + pi/4)**4/16 - 15*cos(θ + pi/4)**2/8) + O(x**5)"
      ]
     },
     "execution_count": 39,
     "metadata": {},
     "output_type": "execute_result"
    }
   ],
   "source": [
    "series(f,x,0,5)"
   ]
  },
  {
   "cell_type": "markdown",
   "metadata": {},
   "source": [
    "## Explanation\n",
    "In the following paragraph, I will claim that the first nonzero part will be precise regardless of its order when we abandon $x^2$ in the presence of $x$.\n",
    "\n",
    "$$\n",
    "f(x)=g(x+\\alpha x^2)\\\\\n",
    "f'(x)=g'(x+\\alpha x^2)\\cdot (1+2\\alpha x)\\\\\n",
    "f'(0)=g'(0)\\cdot (1+2 \\cdot 0)=g'(0)\n",
    "$$\n",
    "\n",
    "If $f'(0) \\neq 0$ is what we want, it works well. What happens when $f'(0) = 0$, however?\n",
    "\n",
    "$$\n",
    "f''(x)=[g'(x+\\alpha x^2)]'\\cdot (1+2\\alpha x)+g'(x+\\alpha x^2)\\cdot 2\\alpha\\\\\n",
    "f''(0)=[g'(x+\\alpha x^2)]'\\cdot (1+2\\alpha x)+0\\cdot 2\\alpha=[g'(x+\\alpha x^2)]'\\cdot (1+2\\alpha x)=g''(0)\n",
    "$$\n",
    "\n",
    "Works well again! \n",
    "\n",
    "However, if $f'(0) \\neq 0$, the second part in the equation above will produce extra terms, which leads to imprecise approximation in $f''(0)$ term."
   ]
  }
 ],
 "metadata": {
  "kernelspec": {
   "display_name": "Python 3",
   "language": "python",
   "name": "python3"
  },
  "language_info": {
   "codemirror_mode": {
    "name": "ipython",
    "version": 3
   },
   "file_extension": ".py",
   "mimetype": "text/x-python",
   "name": "python",
   "nbconvert_exporter": "python",
   "pygments_lexer": "ipython3",
   "version": "3.11.5"
  }
 },
 "nbformat": 4,
 "nbformat_minor": 2
}
