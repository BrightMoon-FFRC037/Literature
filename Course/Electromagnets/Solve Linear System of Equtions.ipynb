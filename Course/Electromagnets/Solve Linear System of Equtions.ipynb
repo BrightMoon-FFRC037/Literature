{
 "cells": [
  {
   "cell_type": "code",
   "execution_count": 2,
   "metadata": {},
   "outputs": [],
   "source": [
    "from sympy import *"
   ]
  },
  {
   "cell_type": "code",
   "execution_count": 3,
   "metadata": {},
   "outputs": [],
   "source": [
    "x, y, z = symbols('x y z')\n"
   ]
  },
  {
   "cell_type": "code",
   "execution_count": 4,
   "metadata": {},
   "outputs": [],
   "source": [
    "eq1 = Eq(3.5*x - 2*y , -4.5)\n",
    "eq2 = Eq(-2*x +3.4*y , 3.7)"
   ]
  },
  {
   "cell_type": "code",
   "execution_count": 7,
   "metadata": {},
   "outputs": [
    {
     "data": {
      "text/plain": [
       "{x: -1.00000000000000, y: 0.500000000000000}"
      ]
     },
     "execution_count": 7,
     "metadata": {},
     "output_type": "execute_result"
    }
   ],
   "source": [
    "solution = solve((eq1, eq2), (x, y))\n",
    "solution"
   ]
  },
  {
   "cell_type": "code",
   "execution_count": 11,
   "metadata": {},
   "outputs": [
    {
     "data": {
      "text/plain": [
       "{x: -3, y: -4, z: -1}"
      ]
     },
     "execution_count": 11,
     "metadata": {},
     "output_type": "execute_result"
    }
   ],
   "source": [
    "eq1=Eq(8*x-y-5*z,-15)\n",
    "eq2=Eq(-x+7*y-5*z,-20)\n",
    "eq3=Eq(-5*x-5*y+35*z,0)\n",
    "solve((eq1,eq2,eq3),(x,y,z))"
   ]
  },
  {
   "cell_type": "code",
   "execution_count": 10,
   "metadata": {},
   "outputs": [
    {
     "data": {
      "text/plain": [
       "{x: -385/101, y: -140/101, z: -75/101}"
      ]
     },
     "execution_count": 10,
     "metadata": {},
     "output_type": "execute_result"
    }
   ],
   "source": [
    "eq1=Eq(1*x+y-7*z,0)\n",
    "eq2=Eq(0*x+1*y-49*z,35)\n",
    "eq3=Eq(-0*x+2*y+3*z,-5)\n",
    "solve((eq1,eq2,eq3),(x,y,z))"
   ]
  },
  {
   "cell_type": "code",
   "execution_count": 14,
   "metadata": {},
   "outputs": [
    {
     "data": {
      "text/plain": [
       "{x: 7.00000000000000, y: -10.0000000000000}"
      ]
     },
     "execution_count": 14,
     "metadata": {},
     "output_type": "execute_result"
    }
   ],
   "source": [
    "eq1 = Eq(0.5*x +0.25*y , 1)\n",
    "eq2 = Eq(0.2*x +(1/25)*y , 1)\n",
    "solve((eq1,eq2),(x,y))"
   ]
  }
 ],
 "metadata": {
  "kernelspec": {
   "display_name": "Python 3",
   "language": "python",
   "name": "python3"
  },
  "language_info": {
   "codemirror_mode": {
    "name": "ipython",
    "version": 3
   },
   "file_extension": ".py",
   "mimetype": "text/x-python",
   "name": "python",
   "nbconvert_exporter": "python",
   "pygments_lexer": "ipython3",
   "version": "3.11.5"
  }
 },
 "nbformat": 4,
 "nbformat_minor": 2
}
