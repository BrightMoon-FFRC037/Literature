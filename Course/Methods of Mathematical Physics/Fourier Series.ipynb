{
 "cells": [
  {
   "cell_type": "code",
   "execution_count": 1,
   "metadata": {},
   "outputs": [],
   "source": [
    "from sympy import *"
   ]
  },
  {
   "cell_type": "code",
   "execution_count": 3,
   "metadata": {},
   "outputs": [
    {
     "data": {
      "text/latex": [
       "$\\displaystyle \\frac{y^{2} \\cos{\\left(\\frac{\\pi n y}{b} \\right)}}{b^{2}}$"
      ],
      "text/plain": [
       "y**2*cos(pi*n*y/b)/b**2"
      ]
     },
     "execution_count": 3,
     "metadata": {},
     "output_type": "execute_result"
    }
   ],
   "source": [
    "b, n, y = symbols('b,n,y')\n",
    "f1 = (y/b)**2*cos(n*pi*y/b)\n",
    "f1"
   ]
  },
  {
   "cell_type": "code",
   "execution_count": 16,
   "metadata": {},
   "outputs": [
    {
     "data": {
      "text/latex": [
       "$\\displaystyle \\frac{b}{3}$"
      ],
      "text/plain": [
       "b/3"
      ]
     },
     "execution_count": 16,
     "metadata": {},
     "output_type": "execute_result"
    }
   ],
   "source": [
    "integrate(f1.subs({n:0}),(y,0,b))"
   ]
  },
  {
   "cell_type": "code",
   "execution_count": 17,
   "metadata": {},
   "outputs": [
    {
     "data": {
      "text/latex": [
       "$\\displaystyle \\begin{cases} \\frac{\\frac{b^{3} \\sin{\\left(\\pi n \\right)}}{\\pi n} + \\frac{2 b^{3} \\cos{\\left(\\pi n \\right)}}{\\pi^{2} n^{2}} - \\frac{2 b^{3} \\sin{\\left(\\pi n \\right)}}{\\pi^{3} n^{3}}}{b^{2}} & \\text{for}\\: n > -\\infty \\wedge n < \\infty \\wedge n \\neq 0 \\\\\\frac{b}{3} & \\text{otherwise} \\end{cases}$"
      ],
      "text/plain": [
       "Piecewise(((b**3*sin(pi*n)/(pi*n) + 2*b**3*cos(pi*n)/(pi**2*n**2) - 2*b**3*sin(pi*n)/(pi**3*n**3))/b**2, (n > -oo) & (n < oo) & Ne(n, 0)), (b/3, True))"
      ]
     },
     "execution_count": 17,
     "metadata": {},
     "output_type": "execute_result"
    }
   ],
   "source": [
    "integrate(f1,(y,0,b))"
   ]
  },
  {
   "cell_type": "code",
   "execution_count": 18,
   "metadata": {},
   "outputs": [
    {
     "data": {
      "text/latex": [
       "$\\displaystyle \\frac{y^{3} \\cos{\\left(\\frac{\\pi n y}{b} \\right)}}{b^{3}}$"
      ],
      "text/plain": [
       "y**3*cos(pi*n*y/b)/b**3"
      ]
     },
     "execution_count": 18,
     "metadata": {},
     "output_type": "execute_result"
    }
   ],
   "source": [
    "f2 = (y/b)**3*cos(n*pi*y/b)\n",
    "f2"
   ]
  },
  {
   "cell_type": "code",
   "execution_count": 19,
   "metadata": {},
   "outputs": [
    {
     "data": {
      "text/latex": [
       "$\\displaystyle \\begin{cases} \\frac{6 b}{\\pi^{4} n^{4}} + \\frac{\\frac{b^{4} \\sin{\\left(\\pi n \\right)}}{\\pi n} + \\frac{3 b^{4} \\cos{\\left(\\pi n \\right)}}{\\pi^{2} n^{2}} - \\frac{6 b^{4} \\sin{\\left(\\pi n \\right)}}{\\pi^{3} n^{3}} - \\frac{6 b^{4} \\cos{\\left(\\pi n \\right)}}{\\pi^{4} n^{4}}}{b^{3}} & \\text{for}\\: n > -\\infty \\wedge n < \\infty \\wedge n \\neq 0 \\\\\\frac{b}{4} & \\text{otherwise} \\end{cases}$"
      ],
      "text/plain": [
       "Piecewise((6*b/(pi**4*n**4) + (b**4*sin(pi*n)/(pi*n) + 3*b**4*cos(pi*n)/(pi**2*n**2) - 6*b**4*sin(pi*n)/(pi**3*n**3) - 6*b**4*cos(pi*n)/(pi**4*n**4))/b**3, (n > -oo) & (n < oo) & Ne(n, 0)), (b/4, True))"
      ]
     },
     "execution_count": 19,
     "metadata": {},
     "output_type": "execute_result"
    }
   ],
   "source": [
    "integrate(f2,(y,0,b))"
   ]
  },
  {
   "cell_type": "code",
   "execution_count": 21,
   "metadata": {},
   "outputs": [
    {
     "data": {
      "text/latex": [
       "$\\displaystyle \\frac{3 y^{2} \\cos{\\left(\\frac{\\pi n y}{b} \\right)}}{b^{2}} - \\frac{2 y^{3} \\cos{\\left(\\frac{\\pi n y}{b} \\right)}}{b^{3}}$"
      ],
      "text/plain": [
       "3*y**2*cos(pi*n*y/b)/b**2 - 2*y**3*cos(pi*n*y/b)/b**3"
      ]
     },
     "execution_count": 21,
     "metadata": {},
     "output_type": "execute_result"
    }
   ],
   "source": [
    "g=3*f1-2*f2\n",
    "g"
   ]
  },
  {
   "cell_type": "code",
   "execution_count": 27,
   "metadata": {},
   "outputs": [
    {
     "data": {
      "text/latex": [
       "$\\displaystyle \\begin{cases} - \\frac{12 b}{\\pi^{4} n^{4}} + \\frac{3 \\left(\\frac{b^{3} \\sin{\\left(\\pi n \\right)}}{\\pi n} + \\frac{2 b^{3} \\cos{\\left(\\pi n \\right)}}{\\pi^{2} n^{2}} - \\frac{2 b^{3} \\sin{\\left(\\pi n \\right)}}{\\pi^{3} n^{3}}\\right)}{b^{2}} - \\frac{2 \\left(\\frac{b^{4} \\sin{\\left(\\pi n \\right)}}{\\pi n} + \\frac{3 b^{4} \\cos{\\left(\\pi n \\right)}}{\\pi^{2} n^{2}} - \\frac{6 b^{4} \\sin{\\left(\\pi n \\right)}}{\\pi^{3} n^{3}} - \\frac{6 b^{4} \\cos{\\left(\\pi n \\right)}}{\\pi^{4} n^{4}}\\right)}{b^{3}} & \\text{for}\\: n > -\\infty \\wedge n < \\infty \\wedge n \\neq 0 \\\\\\frac{b}{2} & \\text{otherwise} \\end{cases}$"
      ],
      "text/plain": [
       "Piecewise((-12*b/(pi**4*n**4) + 3*(b**3*sin(pi*n)/(pi*n) + 2*b**3*cos(pi*n)/(pi**2*n**2) - 2*b**3*sin(pi*n)/(pi**3*n**3))/b**2 - 2*(b**4*sin(pi*n)/(pi*n) + 3*b**4*cos(pi*n)/(pi**2*n**2) - 6*b**4*sin(pi*n)/(pi**3*n**3) - 6*b**4*cos(pi*n)/(pi**4*n**4))/b**3, (n > -oo) & (n < oo) & Ne(n, 0)), (b/2, True))"
      ]
     },
     "execution_count": 27,
     "metadata": {},
     "output_type": "execute_result"
    }
   ],
   "source": [
    "integrate(g,(y,0,b))"
   ]
  },
  {
   "cell_type": "code",
   "execution_count": 28,
   "metadata": {},
   "outputs": [
    {
     "data": {
      "text/latex": [
       "$\\displaystyle - 4 \\cos{\\left(y \\right)} + \\cos{\\left(2 y \\right)} + \\frac{\\pi^{2}}{3} + \\ldots$"
      ],
      "text/plain": [
       "FourierSeries(y**2, (y, -pi, pi), (pi**2/3, SeqFormula(Piecewise((2*pi**2*sin(_n*pi)/_n + 4*pi*cos(_n*pi)/_n**2 - 4*sin(_n*pi)/_n**3, (_n > -oo) & (_n < oo) & Ne(_n, 0)), (2*pi**3/3, True))*cos(_n*y)/pi, (_n, 1, oo)), SeqFormula(0, (_k, 1, oo))))"
      ]
     },
     "execution_count": 28,
     "metadata": {},
     "output_type": "execute_result"
    }
   ],
   "source": [
    "fourier_series(y**2,(y,-pi,pi))"
   ]
  },
  {
   "cell_type": "code",
   "execution_count": null,
   "metadata": {},
   "outputs": [],
   "source": [
    "fourier_series(3*(y/b)**2)"
   ]
  }
 ],
 "metadata": {
  "kernelspec": {
   "display_name": "Python 3",
   "language": "python",
   "name": "python3"
  },
  "language_info": {
   "codemirror_mode": {
    "name": "ipython",
    "version": 3
   },
   "file_extension": ".py",
   "mimetype": "text/x-python",
   "name": "python",
   "nbconvert_exporter": "python",
   "pygments_lexer": "ipython3",
   "version": "3.11.5"
  }
 },
 "nbformat": 4,
 "nbformat_minor": 2
}
