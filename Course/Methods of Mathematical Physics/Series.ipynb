{
 "cells": [
  {
   "cell_type": "code",
   "execution_count": 23,
   "metadata": {},
   "outputs": [],
   "source": [
    "from sympy import *"
   ]
  },
  {
   "cell_type": "code",
   "execution_count": 24,
   "metadata": {},
   "outputs": [
    {
     "data": {
      "text/latex": [
       "$\\displaystyle 120$"
      ],
      "text/plain": [
       "120"
      ]
     },
     "execution_count": 24,
     "metadata": {},
     "output_type": "execute_result"
    }
   ],
   "source": [
    "factorial(5)"
   ]
  },
  {
   "cell_type": "code",
   "execution_count": 25,
   "metadata": {},
   "outputs": [
    {
     "data": {
      "text/latex": [
       "$\\displaystyle \\frac{2 \\left(-1\\right)^{n - y}}{\\left(y - 2\\right) y! \\left(n - y\\right)!}$"
      ],
      "text/plain": [
       "2*(-1)**(n - y)/((y - 2)*factorial(y)*factorial(n - y))"
      ]
     },
     "execution_count": 25,
     "metadata": {},
     "output_type": "execute_result"
    }
   ],
   "source": [
    "n,y,k = symbols('n,y,k')\n",
    "expr = 2*(-1)**(n-y)/(factorial(n-y)*factorial(y)*(y-2))\n",
    "expr\n"
   ]
  },
  {
   "cell_type": "code",
   "execution_count": 26,
   "metadata": {},
   "outputs": [
    {
     "data": {
      "text/latex": [
       "$\\displaystyle - \\frac{0.5 \\left(-1\\right)^{n}}{\\left(n - 2\\right)!}$"
      ],
      "text/plain": [
       "-0.5*(-1)**n/factorial(n - 2)"
      ]
     },
     "execution_count": 26,
     "metadata": {},
     "output_type": "execute_result"
    }
   ],
   "source": [
    "expr_2=-1/2*(-1)**n/factorial(n-2)\n",
    "expr_2"
   ]
  },
  {
   "cell_type": "code",
   "execution_count": 27,
   "metadata": {},
   "outputs": [
    {
     "data": {
      "text/latex": [
       "$\\displaystyle \\sum_{y=3}^{n} \\frac{2 \\left(-1\\right)^{n - y}}{\\left(y - 2\\right) y! \\left(n - y\\right)!}$"
      ],
      "text/plain": [
       "Sum(2*(-1)**(n - y)/((y - 2)*factorial(y)*factorial(n - y)), (y, 3, n))"
      ]
     },
     "execution_count": 27,
     "metadata": {},
     "output_type": "execute_result"
    }
   ],
   "source": [
    "sum = Sum(expr,(y,3,n))\n",
    "sum"
   ]
  },
  {
   "cell_type": "code",
   "execution_count": 28,
   "metadata": {},
   "outputs": [
    {
     "data": {
      "text/latex": [
       "$\\displaystyle - \\frac{0.5 \\left(-1\\right)^{n}}{\\left(n - 2\\right)!} - \\frac{\\left(-1\\right)^{n}}{n!} - \\frac{2 \\left(-1\\right)^{n - 1}}{\\left(n - 1\\right)!} + \\sum_{y=3}^{n} \\frac{2 \\left(-1\\right)^{n - y}}{\\left(y - 2\\right) y! \\left(n - y\\right)!}$"
      ],
      "text/plain": [
       "-0.5*(-1)**n/factorial(n - 2) - (-1)**n/factorial(n) - 2*(-1)**(n - 1)/factorial(n - 1) + Sum(2*(-1)**(n - y)/((y - 2)*factorial(y)*factorial(n - y)), (y, 3, n))"
      ]
     },
     "execution_count": 28,
     "metadata": {},
     "output_type": "execute_result"
    }
   ],
   "source": [
    "res = sum+expr.subs({y:0})+expr.subs({y:1})+expr_2\n",
    "res"
   ]
  },
  {
   "cell_type": "code",
   "execution_count": 61,
   "metadata": {},
   "outputs": [
    {
     "data": {
      "text/latex": [
       "$\\displaystyle \\sum_{k=2}^{18} \\frac{1}{k}$"
      ],
      "text/plain": [
       "Sum(1/k, (k, 2, 18))"
      ]
     },
     "execution_count": 61,
     "metadata": {},
     "output_type": "execute_result"
    }
   ],
   "source": [
    "N=20\n",
    "expr_3 = Sum(1/k,(k,2,N-2))\n",
    "expr_3"
   ]
  },
  {
   "cell_type": "code",
   "execution_count": 62,
   "metadata": {},
   "outputs": [
    {
     "data": {
      "text/plain": [
       "(-3.897160948233965e-16, -3.89716094823396e-16)"
      ]
     },
     "execution_count": 62,
     "metadata": {},
     "output_type": "execute_result"
    }
   ],
   "source": [
    "comparison = expr_3*(-1)**(N+1)/factorial(N-2)\n",
    "float(comparison.doit()),res.subs({n:N}).doit()"
   ]
  },
  {
   "cell_type": "code",
   "execution_count": 63,
   "metadata": {},
   "outputs": [
    {
     "data": {
      "text/latex": [
       "$\\displaystyle \\sum_{n=1}^{\\infty} \\frac{1}{n^{2}}$"
      ],
      "text/plain": [
       "Sum(n**(-2), (n, 1, oo))"
      ]
     },
     "execution_count": 63,
     "metadata": {},
     "output_type": "execute_result"
    }
   ],
   "source": [
    "sum = Sum(expr,(n,1,oo))\n",
    "sum"
   ]
  },
  {
   "cell_type": "code",
   "execution_count": 64,
   "metadata": {},
   "outputs": [
    {
     "data": {
      "text/latex": [
       "$\\displaystyle \\sum_{n=1}^{\\infty} \\frac{1}{n^{2}}$"
      ],
      "text/plain": [
       "Sum(n**(-2), (n, 1, oo))"
      ]
     },
     "execution_count": 64,
     "metadata": {},
     "output_type": "execute_result"
    }
   ],
   "source": [
    "sum.expand()"
   ]
  },
  {
   "cell_type": "code",
   "execution_count": 65,
   "metadata": {},
   "outputs": [
    {
     "data": {
      "text/latex": [
       "$\\displaystyle \\frac{\\pi^{2}}{6}$"
      ],
      "text/plain": [
       "pi**2/6"
      ]
     },
     "execution_count": 65,
     "metadata": {},
     "output_type": "execute_result"
    }
   ],
   "source": [
    "sum.doit()"
   ]
  },
  {
   "cell_type": "code",
   "execution_count": 66,
   "metadata": {},
   "outputs": [
    {
     "data": {
      "text/plain": [
       "[1, 1/4, 1/9]"
      ]
     },
     "execution_count": 66,
     "metadata": {},
     "output_type": "execute_result"
    }
   ],
   "source": [
    "first_few_terms = [expr.subs(n, i) for i in range(1, 4)]\n",
    "first_few_terms"
   ]
  },
  {
   "cell_type": "code",
   "execution_count": 67,
   "metadata": {},
   "outputs": [
    {
     "data": {
      "text/latex": [
       "$\\displaystyle \\sum_{n=1}^{\\infty} \\frac{1}{n^{2}}$"
      ],
      "text/plain": [
       "Sum(n**(-2), (n, 1, oo))"
      ]
     },
     "execution_count": 67,
     "metadata": {},
     "output_type": "execute_result"
    }
   ],
   "source": [
    "n = symbols('n')\n",
    "# Define the variable and the expression\n",
    "expr = 1 / n**2\n",
    "\n",
    "# Calculate the symbolic summation from 1 to infinity\n",
    "#sum_result = Sum(expr, (n, 1, oo)).doit()\n",
    "#sum_result\n",
    "Sum(expr,(n,1,oo))"
   ]
  }
 ],
 "metadata": {
  "kernelspec": {
   "display_name": "Python 3",
   "language": "python",
   "name": "python3"
  },
  "language_info": {
   "codemirror_mode": {
    "name": "ipython",
    "version": 3
   },
   "file_extension": ".py",
   "mimetype": "text/x-python",
   "name": "python",
   "nbconvert_exporter": "python",
   "pygments_lexer": "ipython3",
   "version": "3.11.5"
  }
 },
 "nbformat": 4,
 "nbformat_minor": 2
}
