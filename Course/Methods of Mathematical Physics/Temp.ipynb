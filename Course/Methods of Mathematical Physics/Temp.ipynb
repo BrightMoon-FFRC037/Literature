{
 "cells": [
  {
   "cell_type": "code",
   "execution_count": 14,
   "metadata": {},
   "outputs": [
    {
     "data": {
      "text/latex": [
       "$\\displaystyle \\log{\\left(\\frac{2 z + 1}{2 z - 1} \\right)}$"
      ],
      "text/plain": [
       "log((2*z + 1)/(2*z - 1))"
      ]
     },
     "execution_count": 14,
     "metadata": {},
     "output_type": "execute_result"
    }
   ],
   "source": [
    "from sympy import *\n",
    "x,y,z = symbols('x,y,z')\n",
    "f = ln((2*z+1)/(2*z-1))\n",
    "f"
   ]
  },
  {
   "cell_type": "code",
   "execution_count": 22,
   "metadata": {},
   "outputs": [
    {
     "data": {
      "text/latex": [
       "$\\displaystyle -0.5 - \\log{\\left(z - 0.5 \\right)} - \\frac{\\left(z - 0.5\\right)^{2}}{2} + \\frac{\\left(z - 0.5\\right)^{3}}{3} + z + O\\left(\\left(z - \\frac{1}{2}\\right)^{4}; z\\rightarrow \\frac{1}{2}\\right)$"
      ],
      "text/plain": [
       "-0.5 - log(z - 0.5) - (z - 0.5)**2/2 + (z - 0.5)**3/3 + z + O((z - 1/2)**4, (z, 1/2))"
      ]
     },
     "execution_count": 22,
     "metadata": {},
     "output_type": "execute_result"
    }
   ],
   "source": [
    "series(f,z,1/2,4)"
   ]
  }
 ],
 "metadata": {
  "kernelspec": {
   "display_name": "Python 3",
   "language": "python",
   "name": "python3"
  },
  "language_info": {
   "codemirror_mode": {
    "name": "ipython",
    "version": 3
   },
   "file_extension": ".py",
   "mimetype": "text/x-python",
   "name": "python",
   "nbconvert_exporter": "python",
   "pygments_lexer": "ipython3",
   "version": "3.11.5"
  }
 },
 "nbformat": 4,
 "nbformat_minor": 2
}
