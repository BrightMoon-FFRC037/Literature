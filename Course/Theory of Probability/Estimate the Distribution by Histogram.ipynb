{
 "cells": [
  {
   "cell_type": "code",
   "execution_count": 3,
   "metadata": {},
   "outputs": [],
   "source": [
    "from matplotlib import pyplot as plt"
   ]
  },
  {
   "cell_type": "code",
   "execution_count": 4,
   "metadata": {},
   "outputs": [],
   "source": [
    "data = [342, 340, 348, 346, 343,\n",
    "342, 346, 341, 344, 348,\n",
    "346, 346, 340,\n",
    "344, 342,\n",
    "344, 345, 340,\n",
    "344, 344,\n",
    "343, 344, 342,\n",
    "343,\n",
    "345,\n",
    "339, 350, 337,\n",
    "345, 349,\n",
    "336,\n",
    "348, 344,345,\n",
    "332,\n",
    "342, 342, 340, 350, 343,\n",
    "347,\n",
    "340,344,\n",
    "353, 340,\n",
    "340, 356,346 ,345,346,\n",
    "340,339,342, 352,342,\n",
    "350, 348, 344,350, 335,\n",
    "340, 338, 345, 345, 349,\n",
    "336,342,338,\n",
    "343,\n",
    "343,\n",
    "341,347,\n",
    "341,347, 344,\n",
    "339,347,348,343,347,\n",
    "346,344,\n",
    "345,350,341,\n",
    "338,343,339,343,346,\n",
    "342,\n",
    "339,343,350,341,346,341,345,344,342]"
   ]
  },
  {
   "cell_type": "code",
   "execution_count": 5,
   "metadata": {},
   "outputs": [
    {
     "data": {
      "text/plain": [
       "[342,\n",
       " 340,\n",
       " 348,\n",
       " 346,\n",
       " 343,\n",
       " 342,\n",
       " 346,\n",
       " 341,\n",
       " 344,\n",
       " 348,\n",
       " 346,\n",
       " 346,\n",
       " 340,\n",
       " 344,\n",
       " 342,\n",
       " 344,\n",
       " 345,\n",
       " 340,\n",
       " 344,\n",
       " 344,\n",
       " 343,\n",
       " 344,\n",
       " 342,\n",
       " 343,\n",
       " 345,\n",
       " 339,\n",
       " 350,\n",
       " 337,\n",
       " 345,\n",
       " 349,\n",
       " 336,\n",
       " 348,\n",
       " 344,\n",
       " 345,\n",
       " 332,\n",
       " 342,\n",
       " 342,\n",
       " 340,\n",
       " 350,\n",
       " 343,\n",
       " 347,\n",
       " 340,\n",
       " 344,\n",
       " 353,\n",
       " 340,\n",
       " 340,\n",
       " 356,\n",
       " 346,\n",
       " 345,\n",
       " 346,\n",
       " 340,\n",
       " 339,\n",
       " 342,\n",
       " 352,\n",
       " 342,\n",
       " 350,\n",
       " 348,\n",
       " 344,\n",
       " 350,\n",
       " 335,\n",
       " 340,\n",
       " 338,\n",
       " 345,\n",
       " 345,\n",
       " 349,\n",
       " 336,\n",
       " 342,\n",
       " 338,\n",
       " 343,\n",
       " 343,\n",
       " 341,\n",
       " 347,\n",
       " 341,\n",
       " 347,\n",
       " 344,\n",
       " 339,\n",
       " 347,\n",
       " 348,\n",
       " 343,\n",
       " 347,\n",
       " 346,\n",
       " 344,\n",
       " 345,\n",
       " 350,\n",
       " 341,\n",
       " 338,\n",
       " 343,\n",
       " 339,\n",
       " 343,\n",
       " 346,\n",
       " 342,\n",
       " 339,\n",
       " 343,\n",
       " 350,\n",
       " 341,\n",
       " 346,\n",
       " 341,\n",
       " 345,\n",
       " 344,\n",
       " 342]"
      ]
     },
     "execution_count": 5,
     "metadata": {},
     "output_type": "execute_result"
    }
   ],
   "source": [
    "data"
   ]
  },
  {
   "cell_type": "code",
   "execution_count": 13,
   "metadata": {},
   "outputs": [
    {
     "data": {
      "text/plain": [
       "(array([ 1.,  1.,  3.,  8., 15., 21., 21., 14.,  7.,  6.,  2.,  1.]),\n",
       " array([332., 334., 336., 338., 340., 342., 344., 346., 348., 350., 352.,\n",
       "        354., 356.]),\n",
       " <BarContainer object of 12 artists>)"
      ]
     },
     "execution_count": 13,
     "metadata": {},
     "output_type": "execute_result"
    },
    {
     "data": {
      "image/png": "[encoded data removed]",
      "text/plain": [
       "<Figure size 640x480 with 1 Axes>"
      ]
     },
     "metadata": {},
     "output_type": "display_data"
    }
   ],
   "source": [
    "plt.hist(data,rwidth=0.9,bins=12)"
   ]
  }
 ],
 "metadata": {
  "kernelspec": {
   "display_name": "Python 3",
   "language": "python",
   "name": "python3"
  },
  "language_info": {
   "codemirror_mode": {
    "name": "ipython",
    "version": 3
   },
   "file_extension": ".py",
   "mimetype": "text/x-python",
   "name": "python",
   "nbconvert_exporter": "python",
   "pygments_lexer": "ipython3",
   "version": "3.11.5"
  }
 },
 "nbformat": 4,
 "nbformat_minor": 2
}
