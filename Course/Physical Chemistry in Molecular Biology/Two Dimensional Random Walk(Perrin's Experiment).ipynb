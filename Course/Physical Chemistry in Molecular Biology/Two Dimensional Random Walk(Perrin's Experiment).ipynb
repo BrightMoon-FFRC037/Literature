{
 "cells": [
  {
   "cell_type": "markdown",
   "metadata": {},
   "source": [
    "# Two Dimensional Random Walk (Perrin's Experiment)\n",
    "## Preliminaries"
   ]
  },
  {
   "cell_type": "code",
   "execution_count": 1,
   "metadata": {},
   "outputs": [],
   "source": [
    "from sympy import *\n",
    "import matplotlib.pyplot as plt\n",
    "import numpy as np\n",
    "x, g, t, D , P, r= symbols('x, g, t, D, P, r')"
   ]
  },
  {
   "cell_type": "markdown",
   "metadata": {},
   "source": [
    "## Radical Probability Density Function"
   ]
  },
  {
   "cell_type": "code",
   "execution_count": 2,
   "metadata": {},
   "outputs": [
    {
     "data": {
      "text/latex": [
       "$\\displaystyle r e^{- \\frac{r^{2}}{2}}$"
      ],
      "text/plain": [
       "r*exp(-r**2/2)"
      ]
     },
     "execution_count": 2,
     "metadata": {},
     "output_type": "execute_result"
    }
   ],
   "source": [
    "P = r*exp(-r**2/2)\n",
    "P"
   ]
  },
  {
   "cell_type": "code",
   "execution_count": 3,
   "metadata": {},
   "outputs": [
    {
     "data": {
      "image/png": "[encoded data removed]",
      "text/plain": [
       "<Figure size 640x480 with 1 Axes>"
      ]
     },
     "metadata": {},
     "output_type": "display_data"
    },
    {
     "data": {
      "text/plain": [
       "<sympy.plotting.plot.Plot at 0x1e619118b90>"
      ]
     },
     "execution_count": 3,
     "metadata": {},
     "output_type": "execute_result"
    }
   ],
   "source": [
    "plot(P,(r,0,6))"
   ]
  },
  {
   "cell_type": "markdown",
   "metadata": {},
   "source": [
    "## Change of Variables\n",
    "\n",
    "$$\n",
    "\\tilde d =\\frac{d}{\\sigma}= \\frac{d}{\\sqrt{2Dt}}\n",
    "$$"
   ]
  },
  {
   "cell_type": "code",
   "execution_count": 4,
   "metadata": {},
   "outputs": [],
   "source": [
    "d = 7.84*10**(-6)/np.sqrt((2*6*10**(-13)*30))\n",
    "N = 508"
   ]
  },
  {
   "cell_type": "code",
   "execution_count": 5,
   "metadata": {},
   "outputs": [],
   "source": [
    "def show(no):\n",
    "    return (integrate(P,(r,no*d/4,(no+1)*d/4)),N*integrate(P,(r,no*d/4,(no+1)*d/4)))"
   ]
  },
  {
   "cell_type": "markdown",
   "metadata": {},
   "source": [
    "$P(0 \\leq r \\leq \\frac{d}{4})=5.2\\% $; \n",
    "$N(0 \\leq r \\leq \\frac{d}{4})=26.4$"
   ]
  },
  {
   "cell_type": "code",
   "execution_count": 6,
   "metadata": {},
   "outputs": [
    {
     "data": {
      "text/plain": [
       "(0.0519571293600385, 26.3942217148996)"
      ]
     },
     "execution_count": 6,
     "metadata": {},
     "output_type": "execute_result"
    }
   ],
   "source": [
    "show(0)"
   ]
  },
  {
   "cell_type": "markdown",
   "metadata": {},
   "source": [
    "$P(\\frac{d}{4} \\leq r \\leq \\frac{2d}{4})=14.0\\% $; \n",
    "$N(\\frac{d}{4} \\leq r \\leq \\frac{2d}{4})=71.23$"
   ]
  },
  {
   "cell_type": "code",
   "execution_count": 7,
   "metadata": {},
   "outputs": [
    {
     "data": {
      "text/plain": [
       "(0.140227882878123, 71.2357645020863)"
      ]
     },
     "execution_count": 7,
     "metadata": {},
     "output_type": "execute_result"
    }
   ],
   "source": [
    "show(1)"
   ]
  },
  {
   "cell_type": "markdown",
   "metadata": {},
   "source": [
    "$P(\\frac{2d}{4} \\leq r \\leq \\frac{3d}{4})=18.9\\% $; \n",
    "$N(\\frac{2d}{4} \\leq r \\leq \\frac{3d}{4})=96.1$"
   ]
  },
  {
   "cell_type": "code",
   "execution_count": 8,
   "metadata": {},
   "outputs": [
    {
     "data": {
      "text/plain": [
       "(0.189155340259216, 96.0909128516819)"
      ]
     },
     "execution_count": 8,
     "metadata": {},
     "output_type": "execute_result"
    }
   ],
   "source": [
    "show(2)"
   ]
  },
  {
   "cell_type": "markdown",
   "metadata": {},
   "source": [
    "$P(\\frac{3d}{4} \\leq r \\leq \\frac{4d}{4})=19.3\\%$; \n",
    "$N(\\frac{3d}{4} \\leq r \\leq \\frac{4d}{4})=97.9$"
   ]
  },
  {
   "cell_type": "code",
   "execution_count": 9,
   "metadata": {},
   "outputs": [
    {
     "data": {
      "text/plain": [
       "(0.192818497209820, 97.9517965825883)"
      ]
     },
     "execution_count": 9,
     "metadata": {},
     "output_type": "execute_result"
    }
   ],
   "source": [
    "show(3)"
   ]
  },
  {
   "cell_type": "markdown",
   "metadata": {},
   "source": [
    "$P(\\frac{4d}{4} \\leq r \\leq \\frac{5d}{4})=16.2\\%$; \n",
    "$N(\\frac{4d}{4} \\leq r \\leq \\frac{5d}{4})=82.5$"
   ]
  },
  {
   "cell_type": "code",
   "execution_count": 10,
   "metadata": {},
   "outputs": [
    {
     "data": {
      "text/plain": [
       "(0.162390414360546, 82.4943304951575)"
      ]
     },
     "execution_count": 10,
     "metadata": {},
     "output_type": "execute_result"
    }
   ],
   "source": [
    "show(4)"
   ]
  },
  {
   "cell_type": "markdown",
   "metadata": {},
   "source": [
    "$P(\\frac{5d}{4} \\leq r \\leq \\frac{6d}{4})=11.7\\%$; \n",
    "$N(\\frac{5d}{4} \\leq r \\leq \\frac{6d}{4})=59.4$ "
   ]
  },
  {
   "cell_type": "code",
   "execution_count": 11,
   "metadata": {},
   "outputs": [
    {
     "data": {
      "text/plain": [
       "(0.116961012469891, 59.4161943347046)"
      ]
     },
     "execution_count": 11,
     "metadata": {},
     "output_type": "execute_result"
    }
   ],
   "source": [
    "show(5)"
   ]
  },
  {
   "cell_type": "markdown",
   "metadata": {},
   "source": [
    "$P(\\frac{6d}{4} \\leq r \\leq \\frac{7d}{4})=7.3\\%$; \n",
    "$N(\\frac{6d}{4} \\leq r \\leq \\frac{7d}{4})=37.2$"
   ]
  },
  {
   "cell_type": "code",
   "execution_count": 12,
   "metadata": {},
   "outputs": [
    {
     "data": {
      "text/plain": [
       "(0.0732796478289759, 37.2260610971198)"
      ]
     },
     "execution_count": 12,
     "metadata": {},
     "output_type": "execute_result"
    }
   ],
   "source": [
    "show(6)"
   ]
  },
  {
   "cell_type": "markdown",
   "metadata": {},
   "source": [
    "$P(\\frac{7d}{4} \\leq r \\leq \\frac{8d}{4})=4.0\\%$; \n",
    "$N(\\frac{7d}{4} \\leq r \\leq \\frac{8d}{4})=20.5$; "
   ]
  },
  {
   "cell_type": "code",
   "execution_count": 13,
   "metadata": {},
   "outputs": [
    {
     "data": {
      "text/plain": [
       "(0.0403256314945915, 20.4854207992525)"
      ]
     },
     "execution_count": 13,
     "metadata": {},
     "output_type": "execute_result"
    }
   ],
   "source": [
    "show(7)"
   ]
  },
  {
   "cell_type": "markdown",
   "metadata": {},
   "source": [
    "$P(\\frac{8d}{4}\\leq r)=3.3\\%$; \n",
    "$N(\\frac{8d}{4}\\leq r)=16.7$; "
   ]
  },
  {
   "cell_type": "code",
   "execution_count": 14,
   "metadata": {},
   "outputs": [
    {
     "data": {
      "text/plain": [
       "(0.0328844441387983, 16.7052976225096)"
      ]
     },
     "execution_count": 14,
     "metadata": {},
     "output_type": "execute_result"
    }
   ],
   "source": [
    "(integrate(P,(r,8*d/4,oo)),N*integrate(P,(r,8*d/4,oo)))"
   ]
  }
 ],
 "metadata": {
  "kernelspec": {
   "display_name": "Python 3",
   "language": "python",
   "name": "python3"
  },
  "language_info": {
   "codemirror_mode": {
    "name": "ipython",
    "version": 3
   },
   "file_extension": ".py",
   "mimetype": "text/x-python",
   "name": "python",
   "nbconvert_exporter": "python",
   "pygments_lexer": "ipython3",
   "version": "3.11.5"
  }
 },
 "nbformat": 4,
 "nbformat_minor": 2
}
