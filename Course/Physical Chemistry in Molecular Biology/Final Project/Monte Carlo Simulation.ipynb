{
 "cells": [
  {
   "cell_type": "code",
   "execution_count": 349,
   "metadata": {},
   "outputs": [],
   "source": [
    "import matplotlib.pyplot as plt\n",
    "import numpy as np"
   ]
  },
  {
   "cell_type": "code",
   "execution_count": 350,
   "metadata": {},
   "outputs": [
    {
     "data": {
      "text/plain": [
       "[[0, 0, 0, 0, 1, 0, 0, 0, 0, 0],\n",
       " [0, 0, 0, 0, 0, 1, 0, 0, 0, 0],\n",
       " [0, 0, 0, 0, 0, 0, 1, 0, 0, 0],\n",
       " [0, 0, 0, 0, 0, 0, 0, 1, 0, 0],\n",
       " [1, 0, 0, 0, 0, 0, 0, 0, 1, 0],\n",
       " [0, 1, 0, 0, 0, 0, 0, 0, 0, 1],\n",
       " [0, 0, 1, 0, 0, 0, 0, 0, 0, 0],\n",
       " [0, 0, 0, 1, 0, 0, 0, 0, 0, 0],\n",
       " [0, 0, 0, 0, 1, 0, 0, 0, 0, 0],\n",
       " [0, 0, 0, 0, 0, 1, 0, 0, 0, 0]]"
      ]
     },
     "execution_count": 350,
     "metadata": {},
     "output_type": "execute_result"
    }
   ],
   "source": [
    "correct_H = ((0,4),(1,5),(2,6),(3,7),(4,8),(5,9),(4,0),(5,1),(6,2),(7,3),(8,4),(9,5))\n",
    "standard = []\n",
    "for i in range(10):\n",
    "    temp = []\n",
    "    for j in range(10):\n",
    "        if (i,j) not in correct_H:\n",
    "            temp.append(0) \n",
    "        else:\n",
    "            temp.append(1)\n",
    "    standard.append(temp)\n",
    "standard"
   ]
  },
  {
   "cell_type": "code",
   "execution_count": 351,
   "metadata": {},
   "outputs": [],
   "source": [
    "epsilon = 1.25"
   ]
  },
  {
   "cell_type": "code",
   "execution_count": 352,
   "metadata": {},
   "outputs": [
    {
     "data": {
      "text/plain": [
       "[[0, 0, 0, 0, 0, 0, 0, 0, 0, 0],\n",
       " [0, 0, 0, 0, 0, 0, 0, 0, 0, 0],\n",
       " [0, 0, 0, 0, 0, 0, 0, 0, 0, 0],\n",
       " [0, 0, 0, 0, 0, 0, 0, 0, 0, 0],\n",
       " [0, 0, 0, 0, 0, 0, 0, 0, 0, 0],\n",
       " [0, 0, 0, 0, 0, 0, 0, 0, 0, 0],\n",
       " [0, 0, 0, 0, 0, 0, 0, 0, 0, 0],\n",
       " [0, 0, 0, 0, 0, 0, 0, 0, 0, 0],\n",
       " [0, 0, 0, 0, 0, 0, 0, 0, 0, 0],\n",
       " [0, 0, 0, 0, 0, 0, 0, 0, 0, 0]]"
      ]
     },
     "execution_count": 352,
     "metadata": {},
     "output_type": "execute_result"
    }
   ],
   "source": [
    "peptide = []\n",
    "for i in range(10):\n",
    "    temp = []\n",
    "    for j in range(10):\n",
    "        temp.append(0) # 初始条件没有氢键，全0\n",
    "    peptide.append(temp)\n",
    "peptide"
   ]
  },
  {
   "cell_type": "code",
   "execution_count": 353,
   "metadata": {},
   "outputs": [
    {
     "data": {
      "text/plain": [
       "<matplotlib.image.AxesImage at 0x218d3675150>"
      ]
     },
     "execution_count": 353,
     "metadata": {},
     "output_type": "execute_result"
    },
    {
     "data": {
      "image/png": "[encoded data removed]",
      "text/plain": [
       "<Figure size 640x480 with 1 Axes>"
      ]
     },
     "metadata": {},
     "output_type": "display_data"
    }
   ],
   "source": [
    "plt.imshow(peptide)"
   ]
  },
  {
   "cell_type": "markdown",
   "metadata": {},
   "source": [
    "# 细致平衡\n",
    "\n",
    "$$\n",
    "P(1\\to 2)N_1=P(2\\to 1)N_2\n",
    "$$\n",
    "\n",
    "$$\n",
    "U_2>U_1\n",
    "$$\n",
    "\n",
    "$$\n",
    "\\frac{P(1\\to 2)}{P(2\\to 1)}=\\frac{N_2}{N_1}=\\frac{\\exp(-\\frac{U_2}{kT})}{\\exp(-\\frac{U_1}{kT})}=\\exp(-\\frac{U_2-U_1}{kT})\n",
    "$$\n",
    "\n",
    "$$\n",
    "P(1\\to 2)=\\exp(-\\frac{U_2-U_1}{kT})\n",
    "$$\n",
    "\n",
    "\n",
    "$$\n",
    "P(2\\to 1)=1\n",
    "$$"
   ]
  },
  {
   "cell_type": "code",
   "execution_count": 354,
   "metadata": {},
   "outputs": [],
   "source": [
    "def delta_U(position): #在某个位置改变氢键状态造成的能量变化量\n",
    "    x,y = position\n",
    "    if (x,y) in correct_H and peptide[x][y]==0: #将在正确的位置形成氢键\n",
    "        return -epsilon\n",
    "    if (x,y) in correct_H and peptide[x][y]==1: #将破坏正确位置已经形成的氢键\n",
    "        return +epsilon\n",
    "    if (x,y) not in correct_H and peptide[x][y]==0: #将在错误的位置形成氢键\n",
    "        return +epsilon\n",
    "    if (x,y) not in correct_H and peptide[x][y]==1: #将破坏错误位置已经形成的氢键\n",
    "        return -epsilon\n"
   ]
  },
  {
   "cell_type": "code",
   "execution_count": 355,
   "metadata": {},
   "outputs": [],
   "source": [
    "def determine(delta_e):\n",
    "    if delta_e  < 0:\n",
    "        return True\n",
    "    else:\n",
    "        random_number = np.random.uniform(0, 1)\n",
    "        boltzmann_factor = np.exp(-delta_e)\n",
    "        if random_number < boltzmann_factor:\n",
    "            return True\n",
    "        else: return False"
   ]
  },
  {
   "cell_type": "code",
   "execution_count": 356,
   "metadata": {},
   "outputs": [],
   "source": [
    "def find_the_lucky_dog():\n",
    "    x=y=0\n",
    "    while x==y:\n",
    "        x = np.random.randint(0, 10)\n",
    "        y = np.random.randint(0, 10)\n",
    "    return [x,y]"
   ]
  },
  {
   "cell_type": "code",
   "execution_count": 357,
   "metadata": {},
   "outputs": [
    {
     "data": {
      "text/plain": [
       "207206"
      ]
     },
     "execution_count": 357,
     "metadata": {},
     "output_type": "execute_result"
    }
   ],
   "source": [
    "count = 0\n",
    "\n",
    "while(not peptide == standard):\n",
    "#for i in range(1000000):\n",
    "    chosen_position = find_the_lucky_dog()\n",
    "    if determine(delta_U(position=chosen_position)):\n",
    "        x,y = chosen_position\n",
    "        if peptide[x][y] == 1:\n",
    "            peptide[x][y] = peptide[y][x] = 0\n",
    "        elif peptide[x][y] == 0:\n",
    "            peptide[x][y] = peptide[y][x] = 1\n",
    "    count += 1\n",
    "count"
   ]
  },
  {
   "cell_type": "code",
   "execution_count": 358,
   "metadata": {},
   "outputs": [
    {
     "data": {
      "text/plain": [
       "[[0, 0, 0, 0, 1, 0, 0, 0, 0, 0],\n",
       " [0, 0, 0, 0, 0, 1, 0, 0, 0, 0],\n",
       " [0, 0, 0, 0, 0, 0, 1, 0, 0, 0],\n",
       " [0, 0, 0, 0, 0, 0, 0, 1, 0, 0],\n",
       " [1, 0, 0, 0, 0, 0, 0, 0, 1, 0],\n",
       " [0, 1, 0, 0, 0, 0, 0, 0, 0, 1],\n",
       " [0, 0, 1, 0, 0, 0, 0, 0, 0, 0],\n",
       " [0, 0, 0, 1, 0, 0, 0, 0, 0, 0],\n",
       " [0, 0, 0, 0, 1, 0, 0, 0, 0, 0],\n",
       " [0, 0, 0, 0, 0, 1, 0, 0, 0, 0]]"
      ]
     },
     "execution_count": 358,
     "metadata": {},
     "output_type": "execute_result"
    }
   ],
   "source": [
    "peptide"
   ]
  },
  {
   "cell_type": "code",
   "execution_count": 359,
   "metadata": {},
   "outputs": [
    {
     "data": {
      "text/plain": [
       "<matplotlib.image.AxesImage at 0x218d394f210>"
      ]
     },
     "execution_count": 359,
     "metadata": {},
     "output_type": "execute_result"
    },
    {
     "data": {
      "image/png": "[encoded data removed]",
      "text/plain": [
       "<Figure size 640x480 with 1 Axes>"
      ]
     },
     "metadata": {},
     "output_type": "display_data"
    }
   ],
   "source": [
    "plt.imshow(peptide)"
   ]
  },
  {
   "cell_type": "code",
   "execution_count": 360,
   "metadata": {},
   "outputs": [],
   "source": [
    "peptide=[[0, 1, 1, 1, 1, 1, 1, 1, 1, 1],\n",
    " [1, 0, 1, 1, 1, 1, 1, 1, 1, 1],\n",
    " [1, 1, 0, 1, 1, 1, 1, 1, 1, 1],\n",
    " [1, 1, 1, 0, 1, 1, 1, 1, 1, 1],\n",
    " [1, 1, 1, 1, 0, 1, 1, 1, 1, 1],\n",
    " [1, 1, 1, 1, 1, 0, 1, 1, 1, 1],\n",
    " [1, 1, 1, 1, 1, 1, 0, 1, 1, 1],\n",
    " [1, 1, 1, 1, 1, 1, 1, 0, 1, 1],\n",
    " [1, 1, 1, 1, 1, 1, 1, 1, 0, 1],\n",
    " [1, 1, 1, 1, 1, 1, 1, 1, 1, 0]]"
   ]
  },
  {
   "cell_type": "code",
   "execution_count": 361,
   "metadata": {},
   "outputs": [
    {
     "data": {
      "text/plain": [
       "True"
      ]
     },
     "execution_count": 361,
     "metadata": {},
     "output_type": "execute_result"
    }
   ],
   "source": [
    "determine(delta_U([0,4]))"
   ]
  },
  {
   "cell_type": "code",
   "execution_count": 362,
   "metadata": {},
   "outputs": [
    {
     "data": {
      "text/plain": [
       "[[0, 1, 1, 1, 1, 1, 1, 1, 1, 1],\n",
       " [1, 0, 1, 1, 1, 1, 1, 1, 1, 1],\n",
       " [1, 1, 0, 1, 1, 1, 1, 1, 1, 1],\n",
       " [1, 1, 1, 0, 1, 1, 1, 1, 1, 1],\n",
       " [1, 1, 1, 1, 0, 1, 1, 1, 1, 1],\n",
       " [1, 1, 1, 1, 1, 0, 1, 1, 1, 1],\n",
       " [1, 1, 1, 1, 1, 1, 0, 1, 1, 1],\n",
       " [1, 1, 1, 1, 1, 1, 1, 0, 1, 1],\n",
       " [1, 1, 1, 1, 1, 1, 1, 1, 0, 1],\n",
       " [1, 1, 1, 1, 1, 1, 1, 1, 1, 0]]"
      ]
     },
     "execution_count": 362,
     "metadata": {},
     "output_type": "execute_result"
    }
   ],
   "source": [
    "peptide"
   ]
  }
 ],
 "metadata": {
  "kernelspec": {
   "display_name": "Python 3",
   "language": "python",
   "name": "python3"
  },
  "language_info": {
   "codemirror_mode": {
    "name": "ipython",
    "version": 3
   },
   "file_extension": ".py",
   "mimetype": "text/x-python",
   "name": "python",
   "nbconvert_exporter": "python",
   "pygments_lexer": "ipython3",
   "version": "3.11.5"
  }
 },
 "nbformat": 4,
 "nbformat_minor": 2
}
