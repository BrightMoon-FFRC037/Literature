{
 "cells": [
  {
   "cell_type": "markdown",
   "metadata": {},
   "source": [
    "# 2(4) 插图"
   ]
  },
  {
   "cell_type": "code",
   "execution_count": 108,
   "metadata": {},
   "outputs": [],
   "source": [
    "import numpy as np\n",
    "import matplotlib.pyplot as plt\n",
    "from scipy.stats import binom"
   ]
  },
  {
   "cell_type": "markdown",
   "metadata": {},
   "source": [
    "## 无驱动蛋白"
   ]
  },
  {
   "cell_type": "code",
   "execution_count": 109,
   "metadata": {},
   "outputs": [
    {
     "ename": "MemoryError",
     "evalue": "",
     "output_type": "error",
     "traceback": [
      "\u001b[1;31m---------------------------------------------------------------------------\u001b[0m",
      "\u001b[1;31mMemoryError\u001b[0m                               Traceback (most recent call last)",
      "Cell \u001b[1;32mIn[109], line 7\u001b[0m\n\u001b[0;32m      5\u001b[0m p_ax \u001b[38;5;241m=\u001b[39m []\n\u001b[0;32m      6\u001b[0m \u001b[38;5;28;01mfor\u001b[39;00m i \u001b[38;5;129;01min\u001b[39;00m \u001b[38;5;28mrange\u001b[39m(\u001b[38;5;241m0\u001b[39m,N\u001b[38;5;241m*\u001b[39m\u001b[38;5;241m*\u001b[39m\u001b[38;5;241m4\u001b[39m\u001b[38;5;241m+\u001b[39m\u001b[38;5;241m1\u001b[39m):\n\u001b[1;32m----> 7\u001b[0m     k_ax\u001b[38;5;241m.\u001b[39mappend(i)\n\u001b[0;32m      8\u001b[0m     \u001b[38;5;28;01mif\u001b[39;00m (N\u001b[38;5;241m+\u001b[39mi) \u001b[38;5;241m%\u001b[39m \u001b[38;5;241m2\u001b[39m \u001b[38;5;241m==\u001b[39m \u001b[38;5;241m1\u001b[39m:\n\u001b[0;32m      9\u001b[0m         p_ax\u001b[38;5;241m.\u001b[39mappend(\u001b[38;5;241m0\u001b[39m)\n",
      "\u001b[1;31mMemoryError\u001b[0m: "
     ]
    }
   ],
   "source": [
    "N = 1000\n",
    "pr = 0.5\n",
    "np.arange(0,N+1)\n",
    "k_ax = []\n",
    "p_ax = []\n",
    "for i in range(0,N**4+1):\n",
    "    k_ax.append(i)\n",
    "    if (N+i) % 2 == 1:\n",
    "        p_ax.append(0)\n",
    "    else:\n",
    "        x = (N+i)//2\n",
    "        res=binom.pmf(x, i, pr)\n",
    "        p_ax.append(res)\n",
    "k_ax=np.array(k_ax)\n",
    "p_ax=np.array(p_ax)\n",
    "plt.scatter(k_ax,p_ax)\n",
    "plt.xscale('log')  # Set x-axis to logarithmic scale"
   ]
  },
  {
   "cell_type": "markdown",
   "metadata": {},
   "source": [
    "## 有驱动蛋白"
   ]
  },
  {
   "cell_type": "code",
   "execution_count": null,
   "metadata": {},
   "outputs": [],
   "source": [
    "N = 1000\n",
    "pr = 0.9\n",
    "np.arange(0,N+1)\n",
    "k_ax = []\n",
    "p_ax = []\n",
    "for i in range(0,N**4+1):\n",
    "    k_ax.append(i)\n",
    "    if (N+i) % 2 == 1:\n",
    "        p_ax.append(0)\n",
    "    else:\n",
    "        x = (N+i)//2\n",
    "        res=binom.pmf(x, i, pr)\n",
    "        p_ax.append(res)\n",
    "k_ax=np.array(k_ax)\n",
    "p_ax=np.array(p_ax)\n",
    "plt.scatter(k_ax,p_ax)\n",
    "plt.xscale('log')  # Set x-axis to logarithmic scale"
   ]
  }
 ],
 "metadata": {
  "kernelspec": {
   "display_name": "Python 3",
   "language": "python",
   "name": "python3"
  },
  "language_info": {
   "codemirror_mode": {
    "name": "ipython",
    "version": 3
   },
   "file_extension": ".py",
   "mimetype": "text/x-python",
   "name": "python",
   "nbconvert_exporter": "python",
   "pygments_lexer": "ipython3",
   "version": "3.11.5"
  }
 },
 "nbformat": 4,
 "nbformat_minor": 2
}
