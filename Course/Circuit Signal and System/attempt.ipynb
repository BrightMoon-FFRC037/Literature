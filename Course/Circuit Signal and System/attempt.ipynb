{
 "cells": [
  {
   "cell_type": "code",
   "execution_count": 19,
   "metadata": {},
   "outputs": [],
   "source": [
    "from sympy import *"
   ]
  },
  {
   "cell_type": "code",
   "execution_count": 26,
   "metadata": {},
   "outputs": [],
   "source": [
    "v0,r,c,w,w0,T,t,k,l=symbols('V_0,R,C,\\omega, omega_0, T,t,k,l')"
   ]
  },
  {
   "cell_type": "code",
   "execution_count": 27,
   "metadata": {},
   "outputs": [
    {
     "data": {
      "text/latex": [
       "$\\displaystyle \\frac{V_{0}}{i C R \\omega + 1}$"
      ],
      "text/plain": [
       "V_0/(I*C*R*\\omega + 1)"
      ]
     },
     "execution_count": 27,
     "metadata": {},
     "output_type": "execute_result"
    }
   ],
   "source": [
    "H = v0/(r*c*w*I+1)\n",
    "H"
   ]
  },
  {
   "cell_type": "code",
   "execution_count": 28,
   "metadata": {},
   "outputs": [
    {
     "data": {
      "text/latex": [
       "$\\displaystyle \\cos{\\left(T k \\left(\\omega + \\omega_{0}\\right) \\right)}$"
      ],
      "text/plain": [
       "cos(T*k*(\\omega + omega_0))"
      ]
     },
     "execution_count": 28,
     "metadata": {},
     "output_type": "execute_result"
    }
   ],
   "source": [
    "s = cos(k*(w+w0)*T)\n",
    "s"
   ]
  },
  {
   "cell_type": "code",
   "execution_count": 29,
   "metadata": {},
   "outputs": [
    {
     "data": {
      "text/latex": [
       "$\\displaystyle 2 \\sum_{k=1}^{l} \\cos{\\left(T k \\left(\\omega + \\omega_{0}\\right) \\right)} + 1$"
      ],
      "text/plain": [
       "2*Sum(cos(T*k*(\\omega + omega_0)), (k, 1, l)) + 1"
      ]
     },
     "execution_count": 29,
     "metadata": {},
     "output_type": "execute_result"
    }
   ],
   "source": [
    "ss = 1+2*summation(s,(k,1,l))\n",
    "ss"
   ]
  },
  {
   "cell_type": "code",
   "execution_count": 30,
   "metadata": {},
   "outputs": [
    {
     "data": {
      "text/latex": [
       "$\\displaystyle \\left(2 \\sum_{k=1}^{l} \\cos{\\left(T k \\left(\\omega + \\omega_{0}\\right) \\right)} + 1\\right) \\operatorname{sinc}{\\left(\\frac{T \\left(\\omega + \\omega_{0}\\right)}{4} \\right)}$"
      ],
      "text/plain": [
       "(2*Sum(cos(T*k*(\\omega + omega_0)), (k, 1, l)) + 1)*sinc(T*(\\omega + omega_0)/4)"
      ]
     },
     "execution_count": 30,
     "metadata": {},
     "output_type": "execute_result"
    }
   ],
   "source": [
    "ff=sinc((w+w0)*T/4)*ss\n",
    "ff"
   ]
  },
  {
   "cell_type": "code",
   "execution_count": 35,
   "metadata": {},
   "outputs": [
    {
     "data": {
      "text/latex": [
       "$\\displaystyle \\left(2 \\sum_{k=1}^{l} \\cos{\\left(T k \\left(\\omega - \\omega_{0}\\right) \\right)} + 1\\right) \\operatorname{sinc}{\\left(\\frac{T \\left(\\omega - \\omega_{0}\\right)}{4} \\right)}$"
      ],
      "text/plain": [
       "(2*Sum(cos(T*k*(\\omega - omega_0)), (k, 1, l)) + 1)*sinc(T*(\\omega - omega_0)/4)"
      ]
     },
     "execution_count": 35,
     "metadata": {},
     "output_type": "execute_result"
    }
   ],
   "source": [
    "m = cos(k*(w-w0)*T)\n",
    "gg = sinc((w-w0)*T/4)*(1+2*summation(m,(k,1,l)))\n",
    "gg"
   ]
  },
  {
   "cell_type": "code",
   "execution_count": 42,
   "metadata": {},
   "outputs": [
    {
     "data": {
      "text/latex": [
       "$\\displaystyle - \\left(2 \\sum_{k=1}^{l} \\cos{\\left(T k \\left(\\omega + \\omega_{0}\\right) \\right)} + 1\\right) e^{\\frac{i T \\left(\\omega + \\omega_{0}\\right)}{2}} \\operatorname{sinc}{\\left(\\frac{T \\left(\\omega + \\omega_{0}\\right)}{4} \\right)}$"
      ],
      "text/plain": [
       "-(2*Sum(cos(T*k*(\\omega + omega_0)), (k, 1, l)) + 1)*exp(I*T*(\\omega + omega_0)/2)*sinc(T*(\\omega + omega_0)/4)"
      ]
     },
     "execution_count": 42,
     "metadata": {},
     "output_type": "execute_result"
    }
   ],
   "source": [
    "hh=-exp(I*(w+w0)*T/2)*ff\n",
    "hh"
   ]
  },
  {
   "cell_type": "code",
   "execution_count": 44,
   "metadata": {},
   "outputs": [
    {
     "data": {
      "text/latex": [
       "$\\displaystyle - \\left(2 \\sum_{k=1}^{l} \\cos{\\left(T k \\left(\\omega - \\omega_{0}\\right) \\right)} + 1\\right) e^{\\frac{i T \\left(\\omega - \\omega_{0}\\right)}{2}} \\operatorname{sinc}{\\left(\\frac{T \\left(\\omega - \\omega_{0}\\right)}{4} \\right)}$"
      ],
      "text/plain": [
       "-(2*Sum(cos(T*k*(\\omega - omega_0)), (k, 1, l)) + 1)*exp(I*T*(\\omega - omega_0)/2)*sinc(T*(\\omega - omega_0)/4)"
      ]
     },
     "execution_count": 44,
     "metadata": {},
     "output_type": "execute_result"
    }
   ],
   "source": [
    "jj=-exp(I*(w-w0)*T/2)*gg\n",
    "jj"
   ]
  },
  {
   "cell_type": "code",
   "execution_count": 45,
   "metadata": {},
   "outputs": [
    {
     "data": {
      "text/latex": [
       "$\\displaystyle \\frac{T V_{0} \\left(- \\left(2 \\sum_{k=1}^{l} \\cos{\\left(T k \\left(\\omega - \\omega_{0}\\right) \\right)} + 1\\right) e^{\\frac{i T \\left(\\omega - \\omega_{0}\\right)}{2}} \\operatorname{sinc}{\\left(\\frac{T \\left(\\omega - \\omega_{0}\\right)}{4} \\right)} + \\left(2 \\sum_{k=1}^{l} \\cos{\\left(T k \\left(\\omega - \\omega_{0}\\right) \\right)} + 1\\right) \\operatorname{sinc}{\\left(\\frac{T \\left(\\omega - \\omega_{0}\\right)}{4} \\right)} - \\left(2 \\sum_{k=1}^{l} \\cos{\\left(T k \\left(\\omega + \\omega_{0}\\right) \\right)} + 1\\right) e^{\\frac{i T \\left(\\omega + \\omega_{0}\\right)}{2}} \\operatorname{sinc}{\\left(\\frac{T \\left(\\omega + \\omega_{0}\\right)}{4} \\right)} + \\left(2 \\sum_{k=1}^{l} \\cos{\\left(T k \\left(\\omega + \\omega_{0}\\right) \\right)} + 1\\right) \\operatorname{sinc}{\\left(\\frac{T \\left(\\omega + \\omega_{0}\\right)}{4} \\right)}\\right)}{8 \\left(i C R \\omega + 1\\right)}$"
      ],
      "text/plain": [
       "T*V_0*(-(2*Sum(cos(T*k*(\\omega - omega_0)), (k, 1, l)) + 1)*exp(I*T*(\\omega - omega_0)/2)*sinc(T*(\\omega - omega_0)/4) + (2*Sum(cos(T*k*(\\omega - omega_0)), (k, 1, l)) + 1)*sinc(T*(\\omega - omega_0)/4) - (2*Sum(cos(T*k*(\\omega + omega_0)), (k, 1, l)) + 1)*exp(I*T*(\\omega + omega_0)/2)*sinc(T*(\\omega + omega_0)/4) + (2*Sum(cos(T*k*(\\omega + omega_0)), (k, 1, l)) + 1)*sinc(T*(\\omega + omega_0)/4))/(8*(I*C*R*\\omega + 1))"
      ]
     },
     "execution_count": 45,
     "metadata": {},
     "output_type": "execute_result"
    }
   ],
   "source": [
    "F=H*T/8*(ff+gg+hh+jj)\n",
    "F"
   ]
  }
 ],
 "metadata": {
  "kernelspec": {
   "display_name": "Python 3",
   "language": "python",
   "name": "python3"
  },
  "language_info": {
   "codemirror_mode": {
    "name": "ipython",
    "version": 3
   },
   "file_extension": ".py",
   "mimetype": "text/x-python",
   "name": "python",
   "nbconvert_exporter": "python",
   "pygments_lexer": "ipython3",
   "version": "3.11.5"
  }
 },
 "nbformat": 4,
 "nbformat_minor": 2
}
