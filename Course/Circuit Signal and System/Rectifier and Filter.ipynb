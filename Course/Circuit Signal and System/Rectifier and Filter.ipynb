{
 "cells": [
  {
   "cell_type": "code",
   "execution_count": 72,
   "metadata": {},
   "outputs": [],
   "source": [
    "from sympy import *"
   ]
  },
  {
   "cell_type": "markdown",
   "metadata": {},
   "source": [
    "$$\n",
    "V_0|\\sin (\\omega t)|=RC\\frac{d}{dt}u(t)+u(t)\n",
    "$$"
   ]
  },
  {
   "cell_type": "code",
   "execution_count": 73,
   "metadata": {},
   "outputs": [],
   "source": [
    "v0, w0, r, c, t,w = symbols('V_0, \\omega_0, R, C,t,\\omega')"
   ]
  },
  {
   "cell_type": "markdown",
   "metadata": {},
   "source": [
    "记$u(t)$的Fourier 变换为$F(\\omega)$\n",
    "$$\n",
    "F(\\omega)=\\mathcal F(u(t))\n",
    "$$"
   ]
  },
  {
   "cell_type": "markdown",
   "metadata": {},
   "source": [
    "方程右端的Fourier变换为：\n",
    "$$\n",
    "(RCj\\omega+1)F(\\omega)\n",
    "$$"
   ]
  },
  {
   "cell_type": "code",
   "execution_count": 74,
   "metadata": {},
   "outputs": [
    {
     "data": {
      "text/latex": [
       "$\\displaystyle V_{0} \\left|{\\sin{\\left(\\omega_{0} t \\right)}}\\right|$"
      ],
      "text/plain": [
       "V_0*Abs(sin(\\omega_0*t))"
      ]
     },
     "execution_count": 74,
     "metadata": {},
     "output_type": "execute_result"
    }
   ],
   "source": [
    "input = v0*Abs(sin(w_0*t))\n",
    "input"
   ]
  },
  {
   "cell_type": "markdown",
   "metadata": {},
   "source": [
    "左侧Fourier变换如下所示："
   ]
  },
  {
   "cell_type": "code",
   "execution_count": 75,
   "metadata": {},
   "outputs": [
    {
     "data": {
      "text/latex": [
       "$\\displaystyle V_{0} \\mathcal{F}_{t}\\left[\\left|{\\sin{\\left(\\omega_{0} t \\right)}}\\right|\\right]\\left(\\omega\\right)$"
      ],
      "text/plain": [
       "V_0*FourierTransform(Abs(sin(\\omega_0*t)), t, \\omega)"
      ]
     },
     "execution_count": 75,
     "metadata": {},
     "output_type": "execute_result"
    }
   ],
   "source": [
    "F_input = fourier_transform(input,t,w)\n",
    "F_input"
   ]
  },
  {
   "cell_type": "markdown",
   "metadata": {},
   "source": [
    "方程的Fourier变换如下："
   ]
  },
  {
   "cell_type": "markdown",
   "metadata": {},
   "source": [
    "$$\n",
    "\\displaystyle V_{0} \\mathcal{F}_{t}\\left[\\left|{\\sin{\\left(\\omega t \\right)}}\\right|\\right]\\left(\\omega\\right)=(RCj\\omega+1)F(\\omega)\n",
    "$$"
   ]
  },
  {
   "cell_type": "markdown",
   "metadata": {},
   "source": [
    "$$\n",
    "F(\\omega)=\\frac{1}{RCj\\omega+1}\\cdot \\displaystyle V_{0} \\mathcal{F}_{t}\\left[\\left|{\\sin{\\left(\\omega t \\right)}}\\right|\\right]\\left(\\omega\\right)\n",
    "$$"
   ]
  },
  {
   "cell_type": "code",
   "execution_count": 76,
   "metadata": {},
   "outputs": [
    {
     "data": {
      "text/latex": [
       "$\\displaystyle \\frac{1}{i C R + 1}$"
      ],
      "text/plain": [
       "1/(I*C*R + 1)"
      ]
     },
     "execution_count": 76,
     "metadata": {},
     "output_type": "execute_result"
    }
   ],
   "source": [
    "H = 1/(r*c*I+1)\n",
    "H"
   ]
  },
  {
   "cell_type": "code",
   "execution_count": 77,
   "metadata": {},
   "outputs": [
    {
     "data": {
      "text/latex": [
       "$\\displaystyle \\frac{V_{0} \\mathcal{F}_{t}\\left[\\left|{\\sin{\\left(\\omega_{0} t \\right)}}\\right|\\right]\\left(\\omega\\right)}{i C R + 1}$"
      ],
      "text/plain": [
       "V_0*FourierTransform(Abs(sin(\\omega_0*t)), t, \\omega)/(I*C*R + 1)"
      ]
     },
     "execution_count": 77,
     "metadata": {},
     "output_type": "execute_result"
    }
   ],
   "source": [
    "FF=F_input*H\n",
    "FF"
   ]
  },
  {
   "cell_type": "code",
   "execution_count": 78,
   "metadata": {},
   "outputs": [
    {
     "data": {
      "text/latex": [
       "$\\displaystyle \\frac{V_{0} \\mathcal{F}^{-1}_{\\omega}\\left[\\mathcal{F}_{t}\\left[\\left|{\\sin{\\left(\\omega_{0} t \\right)}}\\right|\\right]\\left(\\omega\\right)\\right]\\left(t\\right)}{i C R + 1}$"
      ],
      "text/plain": [
       "V_0*InverseFourierTransform(FourierTransform(Abs(sin(\\omega_0*t)), t, \\omega), \\omega, t)/(I*C*R + 1)"
      ]
     },
     "execution_count": 78,
     "metadata": {},
     "output_type": "execute_result"
    }
   ],
   "source": [
    "u = inverse_fourier_transform(FF,w,t)\n",
    "u"
   ]
  },
  {
   "cell_type": "code",
   "execution_count": 79,
   "metadata": {},
   "outputs": [
    {
     "data": {
      "text/latex": [
       "$\\displaystyle \\frac{\\left(1 - i\\right) \\mathcal{F}^{-1}_{\\omega}\\left[\\mathcal{F}_{t}\\left[\\left|{\\sin{\\left(t \\right)}}\\right|\\right]\\left(\\omega\\right)\\right]\\left(t\\right)}{2}$"
      ],
      "text/plain": [
       "(1 - I)*InverseFourierTransform(FourierTransform(Abs(sin(t)), t, \\omega), \\omega, t)/2"
      ]
     },
     "execution_count": 79,
     "metadata": {},
     "output_type": "execute_result"
    }
   ],
   "source": [
    "f = u.subs({r:1,c:1,w0:1,v0:1})\n",
    "f"
   ]
  },
  {
   "cell_type": "code",
   "execution_count": 80,
   "metadata": {},
   "outputs": [],
   "source": [
    "import numpy as np\n",
    "import matplotlib.pyplot as plt"
   ]
  },
  {
   "cell_type": "code",
   "execution_count": 81,
   "metadata": {},
   "outputs": [
    {
     "ename": "SyntaxError",
     "evalue": "invalid syntax (<lambdifygenerated-2>, line 1)",
     "output_type": "error",
     "traceback": [
      "Traceback \u001b[1;36m(most recent call last)\u001b[0m:\n",
      "\u001b[0m  File \u001b[0;32m~\\AppData\\Roaming\\Python\\Python311\\site-packages\\IPython\\core\\interactiveshell.py:3526\u001b[0m in \u001b[0;35mrun_code\u001b[0m\n    exec(code_obj, self.user_global_ns, self.user_ns)\u001b[0m\n",
      "\u001b[0m  Cell \u001b[0;32mIn[81], line 1\u001b[0m\n    g = lambdify(f,'numpy')\u001b[0m\n",
      "\u001b[1;36m  File \u001b[1;32md:\\Software\\Python\\Lib\\site-packages\\sympy\\utilities\\lambdify.py:903\u001b[1;36m in \u001b[1;35mlambdify\u001b[1;36m\n\u001b[1;33m    c = compile(funcstr, filename, 'exec')\u001b[1;36m\n",
      "\u001b[1;36m  File \u001b[1;32m<lambdifygenerated-2>:1\u001b[1;36m\u001b[0m\n\u001b[1;33m    def _lambdifygenerated((1 - I)*InverseFourierTransform(FourierTransform(Abs(sin(t)), t, \\omega), \\omega, t)/2):\u001b[0m\n\u001b[1;37m                           ^\u001b[0m\n\u001b[1;31mSyntaxError\u001b[0m\u001b[1;31m:\u001b[0m invalid syntax\n"
     ]
    }
   ],
   "source": [
    "g = lambdify(f,'numpy')\n",
    "g"
   ]
  },
  {
   "cell_type": "code",
   "execution_count": null,
   "metadata": {},
   "outputs": [],
   "source": []
  }
 ],
 "metadata": {
  "kernelspec": {
   "display_name": "Python 3",
   "language": "python",
   "name": "python3"
  },
  "language_info": {
   "codemirror_mode": {
    "name": "ipython",
    "version": 3
   },
   "file_extension": ".py",
   "mimetype": "text/x-python",
   "name": "python",
   "nbconvert_exporter": "python",
   "pygments_lexer": "ipython3",
   "version": "3.11.5"
  }
 },
 "nbformat": 4,
 "nbformat_minor": 2
}
