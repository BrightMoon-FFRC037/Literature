{
 "cells": [
  {
   "cell_type": "code",
   "execution_count": 1,
   "metadata": {},
   "outputs": [
    {
     "data": {
      "text/latex": [
       "$\\displaystyle \\left[\\begin{matrix}- \\frac{7}{2}\\\\- \\frac{9}{2}\\\\3.5\\\\-1.0\\\\-2.5\\end{matrix}\\right]$"
      ],
      "text/plain": [
       "Matrix([\n",
       "[-7/2],\n",
       "[-9/2],\n",
       "[ 3.5],\n",
       "[-1.0],\n",
       "[-2.5]])"
      ]
     },
     "execution_count": 1,
     "metadata": {},
     "output_type": "execute_result"
    }
   ],
   "source": [
    "from sympy import *\n",
    "\n",
    "A = Matrix([[1,-1,0,0,0],\n",
    "            [0,0,-1,0,-1],\n",
    "            [0,1,1,-1,0],\n",
    "            [0,2,0,0,0],\n",
    "            [3,0,0,0,4]])\n",
    "\n",
    "B = Matrix([1,-1,0,-9,-41/2])\n",
    "\n",
    "A.inv()*B"
   ]
  }
 ],
 "metadata": {
  "kernelspec": {
   "display_name": "Python 3",
   "language": "python",
   "name": "python3"
  },
  "language_info": {
   "codemirror_mode": {
    "name": "ipython",
    "version": 3
   },
   "file_extension": ".py",
   "mimetype": "text/x-python",
   "name": "python",
   "nbconvert_exporter": "python",
   "pygments_lexer": "ipython3",
   "version": "3.11.5"
  }
 },
 "nbformat": 4,
 "nbformat_minor": 2
}
