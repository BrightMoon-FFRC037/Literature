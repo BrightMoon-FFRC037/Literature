{
 "cells": [
  {
   "cell_type": "code",
   "execution_count": 105,
   "metadata": {},
   "outputs": [],
   "source": [
    "from sympy import *\n",
    "import numpy as np\n",
    "import matplotlib.pyplot as plt\n",
    "\n",
    "x = np.linspace(-10,10,1000)"
   ]
  },
  {
   "cell_type": "code",
   "execution_count": 106,
   "metadata": {},
   "outputs": [],
   "source": [
    "v0,r,c,w,w0,T,t,k,l=symbols('V_0,R,C,\\omega, omega_0, T,t,k,l')"
   ]
  },
  {
   "cell_type": "code",
   "execution_count": 107,
   "metadata": {},
   "outputs": [
    {
     "data": {
      "text/latex": [
       "$\\displaystyle \\frac{1}{i C R \\omega + 1}$"
      ],
      "text/plain": [
       "1/(I*C*R*\\omega + 1)"
      ]
     },
     "execution_count": 107,
     "metadata": {},
     "output_type": "execute_result"
    }
   ],
   "source": [
    "H = 1/(r*c*w*I+1)\n",
    "H"
   ]
  },
  {
   "cell_type": "markdown",
   "metadata": {},
   "source": [
    "上面的$H(j\\omega)$被称为转移函数，反映了滤波器对频率的选择性，和电磁学力的复阻抗是一样的。"
   ]
  },
  {
   "cell_type": "code",
   "execution_count": 108,
   "metadata": {},
   "outputs": [
    {
     "data": {
      "image/png": "[encoded data removed]",
      "text/plain": [
       "<Figure size 640x480 with 1 Axes>"
      ]
     },
     "metadata": {},
     "output_type": "display_data"
    },
    {
     "data": {
      "text/plain": [
       "<sympy.plotting.plot.Plot at 0x1f7dc724710>"
      ]
     },
     "execution_count": 108,
     "metadata": {},
     "output_type": "execute_result"
    }
   ],
   "source": [
    "para={r:1,c:1}\n",
    "plot(Abs(H).subs(para))"
   ]
  },
  {
   "cell_type": "markdown",
   "metadata": {},
   "source": [
    "下面显示的是输入信号 $V_0|\\cos (\\omega t)|$ 的Fourier 变换式，$F(\\omega)$。"
   ]
  },
  {
   "cell_type": "code",
   "execution_count": 109,
   "metadata": {},
   "outputs": [
    {
     "data": {
      "text/latex": [
       "$\\displaystyle \\frac{2 \\pi}{\\omega_{0}}$"
      ],
      "text/plain": [
       "2*pi/omega_0"
      ]
     },
     "execution_count": 109,
     "metadata": {},
     "output_type": "execute_result"
    }
   ],
   "source": [
    "T=2*pi/w0\n",
    "T"
   ]
  },
  {
   "cell_type": "code",
   "execution_count": 110,
   "metadata": {},
   "outputs": [
    {
     "data": {
      "text/latex": [
       "$\\displaystyle \\cos{\\left(\\frac{2 \\pi k \\left(\\omega + \\omega_{0}\\right)}{\\omega_{0}} \\right)}$"
      ],
      "text/plain": [
       "cos(2*pi*k*(\\omega + omega_0)/omega_0)"
      ]
     },
     "execution_count": 110,
     "metadata": {},
     "output_type": "execute_result"
    }
   ],
   "source": [
    "s = cos(k*(w+w0)*T)\n",
    "s"
   ]
  },
  {
   "cell_type": "code",
   "execution_count": 111,
   "metadata": {},
   "outputs": [
    {
     "data": {
      "text/latex": [
       "$\\displaystyle 2 \\sum_{k=1}^{l} \\cos{\\left(\\frac{2 \\pi k \\left(\\omega + \\omega_{0}\\right)}{\\omega_{0}} \\right)} + 1$"
      ],
      "text/plain": [
       "2*Sum(cos(2*pi*k*(\\omega + omega_0)/omega_0), (k, 1, l)) + 1"
      ]
     },
     "execution_count": 111,
     "metadata": {},
     "output_type": "execute_result"
    }
   ],
   "source": [
    "ss = 1+2*summation(s,(k,1,l))\n",
    "ss"
   ]
  },
  {
   "cell_type": "code",
   "execution_count": 112,
   "metadata": {},
   "outputs": [
    {
     "data": {
      "text/latex": [
       "$\\displaystyle \\left(2 \\sum_{k=1}^{l} \\cos{\\left(\\frac{2 \\pi k \\left(\\omega + \\omega_{0}\\right)}{\\omega_{0}} \\right)} + 1\\right) \\operatorname{sinc}{\\left(\\frac{\\pi \\left(\\omega + \\omega_{0}\\right)}{2 \\omega_{0}} \\right)}$"
      ],
      "text/plain": [
       "(2*Sum(cos(2*pi*k*(\\omega + omega_0)/omega_0), (k, 1, l)) + 1)*sinc(pi*(\\omega + omega_0)/(2*omega_0))"
      ]
     },
     "execution_count": 112,
     "metadata": {},
     "output_type": "execute_result"
    }
   ],
   "source": [
    "ff=sinc((w+w0)*T/4)*ss\n",
    "ff"
   ]
  },
  {
   "cell_type": "code",
   "execution_count": 113,
   "metadata": {},
   "outputs": [
    {
     "data": {
      "text/latex": [
       "$\\displaystyle \\left(2 \\sum_{k=1}^{l} \\cos{\\left(\\frac{2 \\pi k \\left(\\omega - \\omega_{0}\\right)}{\\omega_{0}} \\right)} + 1\\right) \\operatorname{sinc}{\\left(\\frac{\\pi \\left(\\omega - \\omega_{0}\\right)}{2 \\omega_{0}} \\right)}$"
      ],
      "text/plain": [
       "(2*Sum(cos(2*pi*k*(\\omega - omega_0)/omega_0), (k, 1, l)) + 1)*sinc(pi*(\\omega - omega_0)/(2*omega_0))"
      ]
     },
     "execution_count": 113,
     "metadata": {},
     "output_type": "execute_result"
    }
   ],
   "source": [
    "m = cos(k*(w-w0)*T)\n",
    "gg = sinc((w-w0)*T/4)*(1+2*summation(m,(k,1,l)))\n",
    "gg"
   ]
  },
  {
   "cell_type": "code",
   "execution_count": 114,
   "metadata": {},
   "outputs": [],
   "source": [
    "para_for_F={r:1,c:1,l:10,w0:1,v0:1}\n",
    "#plot(ss.subs(para_for_F))"
   ]
  },
  {
   "cell_type": "code",
   "execution_count": 115,
   "metadata": {},
   "outputs": [],
   "source": [
    "F = (ff+gg)"
   ]
  },
  {
   "cell_type": "code",
   "execution_count": 116,
   "metadata": {},
   "outputs": [
    {
     "data": {
      "text/latex": [
       "$\\displaystyle - \\left(2 \\sum_{k=1}^{l} \\cos{\\left(\\frac{2 \\pi k \\left(\\omega + \\omega_{0}\\right)}{\\omega_{0}} \\right)} + 1\\right) e^{\\frac{i \\pi \\left(\\omega + \\omega_{0}\\right)}{\\omega_{0}}} \\operatorname{sinc}{\\left(\\frac{\\pi \\left(\\omega + \\omega_{0}\\right)}{2 \\omega_{0}} \\right)}$"
      ],
      "text/plain": [
       "-(2*Sum(cos(2*pi*k*(\\omega + omega_0)/omega_0), (k, 1, l)) + 1)*exp(I*pi*(\\omega + omega_0)/omega_0)*sinc(pi*(\\omega + omega_0)/(2*omega_0))"
      ]
     },
     "execution_count": 116,
     "metadata": {},
     "output_type": "execute_result"
    }
   ],
   "source": [
    "hh=-exp(I*(w+w0)*T/2)*ff\n",
    "hh"
   ]
  },
  {
   "cell_type": "code",
   "execution_count": 117,
   "metadata": {},
   "outputs": [
    {
     "data": {
      "text/latex": [
       "$\\displaystyle - \\left(2 \\sum_{k=1}^{l} \\cos{\\left(\\frac{2 \\pi k \\left(\\omega - \\omega_{0}\\right)}{\\omega_{0}} \\right)} + 1\\right) e^{\\frac{i \\pi \\left(\\omega - \\omega_{0}\\right)}{\\omega_{0}}} \\operatorname{sinc}{\\left(\\frac{\\pi \\left(\\omega - \\omega_{0}\\right)}{2 \\omega_{0}} \\right)}$"
      ],
      "text/plain": [
       "-(2*Sum(cos(2*pi*k*(\\omega - omega_0)/omega_0), (k, 1, l)) + 1)*exp(I*pi*(\\omega - omega_0)/omega_0)*sinc(pi*(\\omega - omega_0)/(2*omega_0))"
      ]
     },
     "execution_count": 117,
     "metadata": {},
     "output_type": "execute_result"
    }
   ],
   "source": [
    "jj=-exp(I*(w-w0)*T/2)*gg\n",
    "jj"
   ]
  },
  {
   "cell_type": "code",
   "execution_count": 118,
   "metadata": {},
   "outputs": [
    {
     "data": {
      "text/latex": [
       "$\\displaystyle \\frac{\\pi V_{0} \\left(- \\left(2 \\sum_{k=1}^{l} \\cos{\\left(\\frac{2 \\pi k \\left(\\omega - \\omega_{0}\\right)}{\\omega_{0}} \\right)} + 1\\right) e^{\\frac{i \\pi \\left(\\omega - \\omega_{0}\\right)}{\\omega_{0}}} \\operatorname{sinc}{\\left(\\frac{\\pi \\left(\\omega - \\omega_{0}\\right)}{2 \\omega_{0}} \\right)} + \\left(2 \\sum_{k=1}^{l} \\cos{\\left(\\frac{2 \\pi k \\left(\\omega - \\omega_{0}\\right)}{\\omega_{0}} \\right)} + 1\\right) \\operatorname{sinc}{\\left(\\frac{\\pi \\left(\\omega - \\omega_{0}\\right)}{2 \\omega_{0}} \\right)} - \\left(2 \\sum_{k=1}^{l} \\cos{\\left(\\frac{2 \\pi k \\left(\\omega + \\omega_{0}\\right)}{\\omega_{0}} \\right)} + 1\\right) e^{\\frac{i \\pi \\left(\\omega + \\omega_{0}\\right)}{\\omega_{0}}} \\operatorname{sinc}{\\left(\\frac{\\pi \\left(\\omega + \\omega_{0}\\right)}{2 \\omega_{0}} \\right)} + \\left(2 \\sum_{k=1}^{l} \\cos{\\left(\\frac{2 \\pi k \\left(\\omega + \\omega_{0}\\right)}{\\omega_{0}} \\right)} + 1\\right) \\operatorname{sinc}{\\left(\\frac{\\pi \\left(\\omega + \\omega_{0}\\right)}{2 \\omega_{0}} \\right)}\\right)}{4 \\omega_{0}}$"
      ],
      "text/plain": [
       "pi*V_0*(-(2*Sum(cos(2*pi*k*(\\omega - omega_0)/omega_0), (k, 1, l)) + 1)*exp(I*pi*(\\omega - omega_0)/omega_0)*sinc(pi*(\\omega - omega_0)/(2*omega_0)) + (2*Sum(cos(2*pi*k*(\\omega - omega_0)/omega_0), (k, 1, l)) + 1)*sinc(pi*(\\omega - omega_0)/(2*omega_0)) - (2*Sum(cos(2*pi*k*(\\omega + omega_0)/omega_0), (k, 1, l)) + 1)*exp(I*pi*(\\omega + omega_0)/omega_0)*sinc(pi*(\\omega + omega_0)/(2*omega_0)) + (2*Sum(cos(2*pi*k*(\\omega + omega_0)/omega_0), (k, 1, l)) + 1)*sinc(pi*(\\omega + omega_0)/(2*omega_0)))/(4*omega_0)"
      ]
     },
     "execution_count": 118,
     "metadata": {},
     "output_type": "execute_result"
    }
   ],
   "source": [
    "F=v0*T/8*(ff+gg+hh+jj)\n",
    "F"
   ]
  },
  {
   "cell_type": "code",
   "execution_count": 119,
   "metadata": {},
   "outputs": [
    {
     "data": {
      "image/png": "[encoded data removed]",
      "text/plain": [
       "<Figure size 640x480 with 1 Axes>"
      ]
     },
     "metadata": {},
     "output_type": "display_data"
    },
    {
     "data": {
      "text/plain": [
       "<sympy.plotting.plot.Plot at 0x1f7dc76f4d0>"
      ]
     },
     "execution_count": 119,
     "metadata": {},
     "output_type": "execute_result"
    }
   ],
   "source": [
    "plot(Abs(F.subs(para_for_F)))"
   ]
  },
  {
   "cell_type": "code",
   "execution_count": null,
   "metadata": {},
   "outputs": [],
   "source": [
    "\n"
   ]
  }
 ],
 "metadata": {
  "kernelspec": {
   "display_name": "Python 3",
   "language": "python",
   "name": "python3"
  },
  "language_info": {
   "codemirror_mode": {
    "name": "ipython",
    "version": 3
   },
   "file_extension": ".py",
   "mimetype": "text/x-python",
   "name": "python",
   "nbconvert_exporter": "python",
   "pygments_lexer": "ipython3",
   "version": "3.11.5"
  }
 },
 "nbformat": 4,
 "nbformat_minor": 2
}
